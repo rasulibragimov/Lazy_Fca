{
  "nbformat": 4,
  "nbformat_minor": 0,
  "metadata": {
    "colab": {
      "provenance": [],
      "collapsed_sections": [
        "UcYEOtaXqB_s",
        "WU_nCHgA3cwZ",
        "YekgZ_X12j6s",
        "utu9rACI2uXd",
        "MNtQY7caG_b5",
        "Y1v0vICfjXvp",
        "XMaASbdIjZ-t",
        "HJAno9g_kDkY",
        "B_2p5xT8mZ7M"
      ]
    },
    "kernelspec": {
      "name": "python3",
      "display_name": "Python 3"
    },
    "language_info": {
      "name": "python"
    }
  },
  "cells": [
    {
      "cell_type": "code",
      "execution_count": 921,
      "metadata": {
        "id": "smKDQ5FcT8_n"
      },
      "outputs": [],
      "source": [
        "import pandas as pd\n",
        "import numpy as np\n",
        "\n",
        "import numba as nb"
      ]
    },
    {
      "cell_type": "markdown",
      "source": [
        "# Baseline"
      ],
      "metadata": {
        "id": "UcYEOtaXqB_s"
      }
    },
    {
      "cell_type": "code",
      "source": [
        "import time\n",
        "from typing import Iterator, List, Collection, Callable\n",
        "\n",
        "import pandas as pd\n",
        "from tqdm import tqdm\n",
        "\n",
        "# A very general type hint for a prediction function.\n",
        "# A prediction function takes a triplet of (test object description, train descriptions, train labels)\n",
        "# and outputs a bool prediction\n",
        "PREDICTION_FUNCTION_HINT = Callable[\n",
        "    [Collection, Collection[Collection], Collection[bool]], bool\n",
        "]\n",
        "\n",
        "\n",
        "def load_data(df_name: str) -> pd.DataFrame:\n",
        "    \"\"\"Generalized function to load datasets in the form of pandas.DataFrame\"\"\"\n",
        "    if df_name == 'tic_tac_toe':\n",
        "        return load_tic_tac_toe()\n",
        "\n",
        "    raise ValueError(f'Unknown dataset name: {df_name}')\n",
        "\n",
        "\n",
        "def load_tic_tac_toe() -> pd.DataFrame:\n",
        "    \"\"\"Load tic-tac-toe dataset from UCI repository\"\"\"\n",
        "    column_names = [\n",
        "        'top-left-square', 'top-middle-square', 'top-right-square',\n",
        "        'middle-left-square', 'middle-middle-square', 'middle-right-square',\n",
        "        'bottom-left-square', 'bottom-middle-square', 'bottom-right-square',\n",
        "        'Class'\n",
        "    ]\n",
        "    url = 'https://archive.ics.uci.edu/ml/machine-learning-databases/tic-tac-toe/tic-tac-toe.data'\n",
        "    df = pd.read_csv(url, names=column_names)\n",
        "    df['Class'] = [x == 'positive' for x in df['Class']]\n",
        "    return df\n",
        "\n",
        "\n",
        "def binarize_X(X: pd.DataFrame) -> 'pd.DataFrame[bool]':\n",
        "    \"\"\"Scale values from X into pandas.DataFrame of binary values\"\"\"\n",
        "    dummies = [pd.get_dummies(X[f], prefix=f, prefix_sep=': ') for f in X.columns]\n",
        "    X_bin = pd.concat(dummies, axis=1).astype(bool)\n",
        "    return X_bin\n",
        "\n",
        "\n",
        "def predict_with_generators(\n",
        "        x: set, X_train: List[set], Y_train: List[bool],\n",
        "        min_cardinality: int = 6\n",
        ") -> bool:\n",
        "    \"\"\"Lazy prediction for ``x`` based on training data ``X_train`` and ``Y_train``\n",
        "    Parameters\n",
        "    ----------\n",
        "    x : set\n",
        "        Description to make prediction for\n",
        "    X_train: List[set]\n",
        "        List of training examples\n",
        "    Y_train: List[bool]\n",
        "        List of labels of training examples\n",
        "    min_cardinality: int\n",
        "        Minimal size of an intersection required to count for counterexamples\n",
        "    Returns\n",
        "    -------\n",
        "    prediction: bool\n",
        "        Class prediction for ``x`` (either True or False)\n",
        "    \"\"\"\n",
        "    X_pos = [x_train for x_train, y in zip(X_train, Y_train) if y]\n",
        "    X_neg = [x_train for x_train, y in zip(X_train, Y_train) if not y]\n",
        "\n",
        "    n_counters_pos = 0  # number of counter examples for positive intersections\n",
        "    for x_pos in X_pos:\n",
        "        intersection_pos = x & x_pos\n",
        "        if len(intersection_pos) < min_cardinality:  # the intersection is too small\n",
        "            continue\n",
        "\n",
        "        for x_neg in X_neg:  # count all negative examples that contain intersection_pos\n",
        "            if (intersection_pos & x_neg) == intersection_pos:\n",
        "                n_counters_pos += 1\n",
        "\n",
        "    n_counters_neg = 0  # number of counter examples for negative intersections\n",
        "    for x_neg in X_neg:\n",
        "        intersection_neg = x & x_neg\n",
        "        if len(intersection_neg) < min_cardinality:\n",
        "            continue\n",
        "\n",
        "        for x_pos in X_pos:  # count all positive examples that contain intersection_neg\n",
        "            if (intersection_neg & x_pos) == intersection_neg:\n",
        "                n_counters_neg += 1\n",
        "\n",
        "    perc_counters_pos = n_counters_pos / len(X_pos)\n",
        "    perc_counters_neg = n_counters_neg / len(X_neg)\n",
        "\n",
        "    prediction = perc_counters_pos < perc_counters_neg\n",
        "    return prediction\n",
        "\n",
        "def predict_array(\n",
        "        X: List[set], Y: List[bool],\n",
        "        n_train: int, update_train: bool = True, use_tqdm: bool = False,\n",
        "        predict_func: PREDICTION_FUNCTION_HINT = predict_with_generators,\n",
        "        min_cardinality: int = 5\n",
        ") -> Iterator[bool]:\n",
        "    \"\"\"Predict the labels of multiple examples from ``X``\n",
        "    Parameters\n",
        "    ----------\n",
        "    X: List[set]\n",
        "        Set of train and test examples to classify represented with subsets of attributes\n",
        "    Y: List[bool]\n",
        "        Set of train and test labels for each example from X\n",
        "    n_train: int\n",
        "        Initial number of train examples. That is, make predictions only for examples from X_train[n_train:]\n",
        "    update_train: bool\n",
        "        A flag whether to consider true labels of predicted examples as training data or not.\n",
        "        If True, then for each X_i the training data consists of X_1, X_2, ..., X_{n_train}, ...,  X_{i-1}.\n",
        "        If False, then for each X_i the training data consists of X_1, X_2, ..., X_{n_train}\n",
        "    use_tqdm: bool\n",
        "        A flag whether to use tqdm progress bar (in case you like progress bars)\n",
        "    predict_func: <see PREDICTION_FUNCTION_HINT defined in this file>\n",
        "        A function to make prediction for each specific example from ``X``.\n",
        "        The default prediction function is ``predict_with_generator`` (considered as baseline for the home work).\n",
        "    Returns\n",
        "    -------\n",
        "    prediction: Iterator\n",
        "        Python generator with predictions for each x in X[n_train:]\n",
        "    \"\"\"\n",
        "    for i, x in tqdm(\n",
        "        enumerate(X[n_train:]),\n",
        "        initial=n_train, total=len(X),\n",
        "        desc='Predicting step by step',\n",
        "        disable=not use_tqdm,\n",
        "    ):\n",
        "        n_trains = n_train + i if update_train else n_train\n",
        "        yield predict_func(x, X[:n_trains], Y[:n_trains], min_cardinality = min_cardinality)\n",
        "\n",
        "\n",
        "def apply_stopwatch(iterator: Iterator):\n",
        "    \"\"\"Measure run time of each iteration of ``iterator``\n",
        "    The function can be applied e.g. for the output of ``predict_array`` function\n",
        "    \"\"\"\n",
        "    outputs = []\n",
        "    times = []\n",
        "\n",
        "    t_start = time.time()\n",
        "    for out in iterator:\n",
        "        dt = time.time() - t_start\n",
        "        outputs.append(out)\n",
        "        times.append(dt)\n",
        "        t_start = time.time()\n",
        "\n",
        "    return outputs, times"
      ],
      "metadata": {
        "id": "MpNZRQd6UeC4"
      },
      "execution_count": 884,
      "outputs": []
    },
    {
      "cell_type": "code",
      "source": [
        "df = pd.read_csv('/content/healthcare-dataset-stroke-data (1).csv')"
      ],
      "metadata": {
        "id": "O-W9u0w14POH"
      },
      "execution_count": 885,
      "outputs": []
    },
    {
      "cell_type": "code",
      "source": [
        "df = df[:1000]\n",
        "\n",
        "df = df.sample(frac=1).reset_index(drop=True)"
      ],
      "metadata": {
        "id": "o7fA7U-Ybjvb"
      },
      "execution_count": 886,
      "outputs": []
    },
    {
      "cell_type": "code",
      "source": [
        "df['bmi'].fillna(df['bmi'].mean(), inplace=True)"
      ],
      "metadata": {
        "id": "c7JNPBgl4oqZ"
      },
      "execution_count": 887,
      "outputs": []
    },
    {
      "cell_type": "code",
      "source": [
        "df.drop(columns='id', inplace=True)\n",
        "\n",
        "obj_cols = ['gender', 'ever_married', 'work_type', 'Residence_type', 'smoking_status']\n",
        "num_cols = ['avg_glucose_level', 'bmi', 'age']\n",
        "\n",
        "df = pd.concat([df, pd.get_dummies(df[obj_cols])], axis=1)\n",
        "df.drop(columns=obj_cols, inplace=True)"
      ],
      "metadata": {
        "id": "xMvEOAYkIdxM"
      },
      "execution_count": 888,
      "outputs": []
    },
    {
      "cell_type": "code",
      "source": [
        "def binarize_numerical(ds, num_cols):\n",
        "  df = ds.copy()\n",
        "  cols_new = []\n",
        "  for col in num_cols:\n",
        "    mean = df[col].mean()\n",
        "    conditions = [\n",
        "      (df[col] < mean),\n",
        "      (df[col] >= mean)]\n",
        "\n",
        "    values = [0, 1]\n",
        "    \n",
        "    df[f'binary_{col}'] = np.select(conditions, values)\n",
        "    cols_new += [f'binary_{col}']\n",
        "  df.drop(columns=num_cols, inplace=True)\n",
        "  return df\n",
        "\n",
        "def binarize_numerical_hard(ds, num_cols):\n",
        "  df = ds.copy()\n",
        "  cols_new = []\n",
        "  for col in num_cols:\n",
        "    mean = df[col].mean()\n",
        "    std = df[col].std()\n",
        "    conditions = [\n",
        "      (df[col] < mean - 3*std) | (df[col] > mean + 3*std),\n",
        "      (df[col].between(mean - 3*std, mean-2*std, inclusive=True)) | (df[col].between(mean + 2*std, mean+3*std, inclusive=True)),\n",
        "      (df[col].between(mean - 2*std, mean-1*std, inclusive=True)) | (df[col].between(mean + 1*std, mean+2*std, inclusive=True)),\n",
        "      (df[col].between(mean - 1*std, mean-0*std, inclusive=True)) | (df[col].between(mean + 0*std, mean+1*std, inclusive=True)),\n",
        "      ]\n",
        "\n",
        "    values = [0, 1, 2, 3]\n",
        "    \n",
        "    df[f'binary_{col}'] = np.select(conditions, values)\n",
        "    cols_new += [f'binary_{col}']\n",
        "  df.drop(columns=num_cols, inplace=True)\n",
        "  return df, cols_new"
      ],
      "metadata": {
        "id": "PMDADqZeSE6L"
      },
      "execution_count": 889,
      "outputs": []
    },
    {
      "cell_type": "code",
      "source": [
        "def get_bools(ds, cols_new):\n",
        "  df = ds.copy()\n",
        "  df = pd.concat([df, pd.get_dummies(ds[cols_new])], axis=1)\n",
        "  df.drop(columns=cols_new, inplace=True)\n",
        "  df = df.astype(np.bool)\n",
        "  return df"
      ],
      "metadata": {
        "id": "IiXnCzGKujns"
      },
      "execution_count": 890,
      "outputs": []
    },
    {
      "cell_type": "code",
      "source": [
        "df = binarize_numerical(df, num_cols)\n",
        "\n",
        "df.head()"
      ],
      "metadata": {
        "colab": {
          "base_uri": "https://localhost:8080/",
          "height": 317
        },
        "id": "UCjR0AXSSJZZ",
        "outputId": "64ddb1b8-5a1f-466e-ac37-036bbb9756e7"
      },
      "execution_count": 891,
      "outputs": [
        {
          "output_type": "execute_result",
          "data": {
            "text/plain": [
              "   hypertension  heart_disease  stroke  gender_Female  gender_Male  \\\n",
              "0             1              1       1              0            1   \n",
              "1             0              0       0              1            0   \n",
              "2             0              0       0              1            0   \n",
              "3             0              0       0              1            0   \n",
              "4             0              0       0              1            0   \n",
              "\n",
              "   ever_married_No  ever_married_Yes  work_type_Govt_job  \\\n",
              "0                0                 1                   0   \n",
              "1                1                 0                   0   \n",
              "2                0                 1                   0   \n",
              "3                1                 0                   0   \n",
              "4                0                 1                   0   \n",
              "\n",
              "   work_type_Never_worked  work_type_Private  ...  work_type_children  \\\n",
              "0                       0                  1  ...                   0   \n",
              "1                       0                  1  ...                   0   \n",
              "2                       0                  1  ...                   0   \n",
              "3                       0                  0  ...                   1   \n",
              "4                       0                  0  ...                   0   \n",
              "\n",
              "   Residence_type_Rural  Residence_type_Urban  smoking_status_Unknown  \\\n",
              "0                     1                     0                       0   \n",
              "1                     0                     1                       0   \n",
              "2                     1                     0                       0   \n",
              "3                     1                     0                       1   \n",
              "4                     1                     0                       0   \n",
              "\n",
              "   smoking_status_formerly smoked  smoking_status_never smoked  \\\n",
              "0                               0                            0   \n",
              "1                               0                            1   \n",
              "2                               1                            0   \n",
              "3                               0                            0   \n",
              "4                               1                            0   \n",
              "\n",
              "   smoking_status_smokes  binary_avg_glucose_level  binary_bmi  binary_age  \n",
              "0                      1                         1           1           1  \n",
              "1                      0                         0           0           0  \n",
              "2                      0                         0           1           1  \n",
              "3                      0                         0           0           0  \n",
              "4                      0                         0           0           0  \n",
              "\n",
              "[5 rows x 21 columns]"
            ],
            "text/html": [
              "\n",
              "  <div id=\"df-1a5ceaf4-15e2-4841-b92d-03c675f98d94\">\n",
              "    <div class=\"colab-df-container\">\n",
              "      <div>\n",
              "<style scoped>\n",
              "    .dataframe tbody tr th:only-of-type {\n",
              "        vertical-align: middle;\n",
              "    }\n",
              "\n",
              "    .dataframe tbody tr th {\n",
              "        vertical-align: top;\n",
              "    }\n",
              "\n",
              "    .dataframe thead th {\n",
              "        text-align: right;\n",
              "    }\n",
              "</style>\n",
              "<table border=\"1\" class=\"dataframe\">\n",
              "  <thead>\n",
              "    <tr style=\"text-align: right;\">\n",
              "      <th></th>\n",
              "      <th>hypertension</th>\n",
              "      <th>heart_disease</th>\n",
              "      <th>stroke</th>\n",
              "      <th>gender_Female</th>\n",
              "      <th>gender_Male</th>\n",
              "      <th>ever_married_No</th>\n",
              "      <th>ever_married_Yes</th>\n",
              "      <th>work_type_Govt_job</th>\n",
              "      <th>work_type_Never_worked</th>\n",
              "      <th>work_type_Private</th>\n",
              "      <th>...</th>\n",
              "      <th>work_type_children</th>\n",
              "      <th>Residence_type_Rural</th>\n",
              "      <th>Residence_type_Urban</th>\n",
              "      <th>smoking_status_Unknown</th>\n",
              "      <th>smoking_status_formerly smoked</th>\n",
              "      <th>smoking_status_never smoked</th>\n",
              "      <th>smoking_status_smokes</th>\n",
              "      <th>binary_avg_glucose_level</th>\n",
              "      <th>binary_bmi</th>\n",
              "      <th>binary_age</th>\n",
              "    </tr>\n",
              "  </thead>\n",
              "  <tbody>\n",
              "    <tr>\n",
              "      <th>0</th>\n",
              "      <td>1</td>\n",
              "      <td>1</td>\n",
              "      <td>1</td>\n",
              "      <td>0</td>\n",
              "      <td>1</td>\n",
              "      <td>0</td>\n",
              "      <td>1</td>\n",
              "      <td>0</td>\n",
              "      <td>0</td>\n",
              "      <td>1</td>\n",
              "      <td>...</td>\n",
              "      <td>0</td>\n",
              "      <td>1</td>\n",
              "      <td>0</td>\n",
              "      <td>0</td>\n",
              "      <td>0</td>\n",
              "      <td>0</td>\n",
              "      <td>1</td>\n",
              "      <td>1</td>\n",
              "      <td>1</td>\n",
              "      <td>1</td>\n",
              "    </tr>\n",
              "    <tr>\n",
              "      <th>1</th>\n",
              "      <td>0</td>\n",
              "      <td>0</td>\n",
              "      <td>0</td>\n",
              "      <td>1</td>\n",
              "      <td>0</td>\n",
              "      <td>1</td>\n",
              "      <td>0</td>\n",
              "      <td>0</td>\n",
              "      <td>0</td>\n",
              "      <td>1</td>\n",
              "      <td>...</td>\n",
              "      <td>0</td>\n",
              "      <td>0</td>\n",
              "      <td>1</td>\n",
              "      <td>0</td>\n",
              "      <td>0</td>\n",
              "      <td>1</td>\n",
              "      <td>0</td>\n",
              "      <td>0</td>\n",
              "      <td>0</td>\n",
              "      <td>0</td>\n",
              "    </tr>\n",
              "    <tr>\n",
              "      <th>2</th>\n",
              "      <td>0</td>\n",
              "      <td>0</td>\n",
              "      <td>0</td>\n",
              "      <td>1</td>\n",
              "      <td>0</td>\n",
              "      <td>0</td>\n",
              "      <td>1</td>\n",
              "      <td>0</td>\n",
              "      <td>0</td>\n",
              "      <td>1</td>\n",
              "      <td>...</td>\n",
              "      <td>0</td>\n",
              "      <td>1</td>\n",
              "      <td>0</td>\n",
              "      <td>0</td>\n",
              "      <td>1</td>\n",
              "      <td>0</td>\n",
              "      <td>0</td>\n",
              "      <td>0</td>\n",
              "      <td>1</td>\n",
              "      <td>1</td>\n",
              "    </tr>\n",
              "    <tr>\n",
              "      <th>3</th>\n",
              "      <td>0</td>\n",
              "      <td>0</td>\n",
              "      <td>0</td>\n",
              "      <td>1</td>\n",
              "      <td>0</td>\n",
              "      <td>1</td>\n",
              "      <td>0</td>\n",
              "      <td>0</td>\n",
              "      <td>0</td>\n",
              "      <td>0</td>\n",
              "      <td>...</td>\n",
              "      <td>1</td>\n",
              "      <td>1</td>\n",
              "      <td>0</td>\n",
              "      <td>1</td>\n",
              "      <td>0</td>\n",
              "      <td>0</td>\n",
              "      <td>0</td>\n",
              "      <td>0</td>\n",
              "      <td>0</td>\n",
              "      <td>0</td>\n",
              "    </tr>\n",
              "    <tr>\n",
              "      <th>4</th>\n",
              "      <td>0</td>\n",
              "      <td>0</td>\n",
              "      <td>0</td>\n",
              "      <td>1</td>\n",
              "      <td>0</td>\n",
              "      <td>0</td>\n",
              "      <td>1</td>\n",
              "      <td>0</td>\n",
              "      <td>0</td>\n",
              "      <td>0</td>\n",
              "      <td>...</td>\n",
              "      <td>0</td>\n",
              "      <td>1</td>\n",
              "      <td>0</td>\n",
              "      <td>0</td>\n",
              "      <td>1</td>\n",
              "      <td>0</td>\n",
              "      <td>0</td>\n",
              "      <td>0</td>\n",
              "      <td>0</td>\n",
              "      <td>0</td>\n",
              "    </tr>\n",
              "  </tbody>\n",
              "</table>\n",
              "<p>5 rows × 21 columns</p>\n",
              "</div>\n",
              "      <button class=\"colab-df-convert\" onclick=\"convertToInteractive('df-1a5ceaf4-15e2-4841-b92d-03c675f98d94')\"\n",
              "              title=\"Convert this dataframe to an interactive table.\"\n",
              "              style=\"display:none;\">\n",
              "        \n",
              "  <svg xmlns=\"http://www.w3.org/2000/svg\" height=\"24px\"viewBox=\"0 0 24 24\"\n",
              "       width=\"24px\">\n",
              "    <path d=\"M0 0h24v24H0V0z\" fill=\"none\"/>\n",
              "    <path d=\"M18.56 5.44l.94 2.06.94-2.06 2.06-.94-2.06-.94-.94-2.06-.94 2.06-2.06.94zm-11 1L8.5 8.5l.94-2.06 2.06-.94-2.06-.94L8.5 2.5l-.94 2.06-2.06.94zm10 10l.94 2.06.94-2.06 2.06-.94-2.06-.94-.94-2.06-.94 2.06-2.06.94z\"/><path d=\"M17.41 7.96l-1.37-1.37c-.4-.4-.92-.59-1.43-.59-.52 0-1.04.2-1.43.59L10.3 9.45l-7.72 7.72c-.78.78-.78 2.05 0 2.83L4 21.41c.39.39.9.59 1.41.59.51 0 1.02-.2 1.41-.59l7.78-7.78 2.81-2.81c.8-.78.8-2.07 0-2.86zM5.41 20L4 18.59l7.72-7.72 1.47 1.35L5.41 20z\"/>\n",
              "  </svg>\n",
              "      </button>\n",
              "      \n",
              "  <style>\n",
              "    .colab-df-container {\n",
              "      display:flex;\n",
              "      flex-wrap:wrap;\n",
              "      gap: 12px;\n",
              "    }\n",
              "\n",
              "    .colab-df-convert {\n",
              "      background-color: #E8F0FE;\n",
              "      border: none;\n",
              "      border-radius: 50%;\n",
              "      cursor: pointer;\n",
              "      display: none;\n",
              "      fill: #1967D2;\n",
              "      height: 32px;\n",
              "      padding: 0 0 0 0;\n",
              "      width: 32px;\n",
              "    }\n",
              "\n",
              "    .colab-df-convert:hover {\n",
              "      background-color: #E2EBFA;\n",
              "      box-shadow: 0px 1px 2px rgba(60, 64, 67, 0.3), 0px 1px 3px 1px rgba(60, 64, 67, 0.15);\n",
              "      fill: #174EA6;\n",
              "    }\n",
              "\n",
              "    [theme=dark] .colab-df-convert {\n",
              "      background-color: #3B4455;\n",
              "      fill: #D2E3FC;\n",
              "    }\n",
              "\n",
              "    [theme=dark] .colab-df-convert:hover {\n",
              "      background-color: #434B5C;\n",
              "      box-shadow: 0px 1px 3px 1px rgba(0, 0, 0, 0.15);\n",
              "      filter: drop-shadow(0px 1px 2px rgba(0, 0, 0, 0.3));\n",
              "      fill: #FFFFFF;\n",
              "    }\n",
              "  </style>\n",
              "\n",
              "      <script>\n",
              "        const buttonEl =\n",
              "          document.querySelector('#df-1a5ceaf4-15e2-4841-b92d-03c675f98d94 button.colab-df-convert');\n",
              "        buttonEl.style.display =\n",
              "          google.colab.kernel.accessAllowed ? 'block' : 'none';\n",
              "\n",
              "        async function convertToInteractive(key) {\n",
              "          const element = document.querySelector('#df-1a5ceaf4-15e2-4841-b92d-03c675f98d94');\n",
              "          const dataTable =\n",
              "            await google.colab.kernel.invokeFunction('convertToInteractive',\n",
              "                                                     [key], {});\n",
              "          if (!dataTable) return;\n",
              "\n",
              "          const docLinkHtml = 'Like what you see? Visit the ' +\n",
              "            '<a target=\"_blank\" href=https://colab.research.google.com/notebooks/data_table.ipynb>data table notebook</a>'\n",
              "            + ' to learn more about interactive tables.';\n",
              "          element.innerHTML = '';\n",
              "          dataTable['output_type'] = 'display_data';\n",
              "          await google.colab.output.renderOutput(dataTable, element);\n",
              "          const docLink = document.createElement('div');\n",
              "          docLink.innerHTML = docLinkHtml;\n",
              "          element.appendChild(docLink);\n",
              "        }\n",
              "      </script>\n",
              "    </div>\n",
              "  </div>\n",
              "  "
            ]
          },
          "metadata": {},
          "execution_count": 891
        }
      ]
    },
    {
      "cell_type": "code",
      "source": [
        "#df = get_bools(df, cols)"
      ],
      "metadata": {
        "id": "-xZ4U5XZfHCF"
      },
      "execution_count": 892,
      "outputs": []
    },
    {
      "cell_type": "code",
      "source": [
        "df = df.astype(bool)"
      ],
      "metadata": {
        "id": "bVvCVCiWoifP"
      },
      "execution_count": 893,
      "outputs": []
    },
    {
      "cell_type": "code",
      "source": [
        "y = df['stroke']\n",
        "X = df.drop(columns='stroke')"
      ],
      "metadata": {
        "id": "qchkX_1aTFG4"
      },
      "execution_count": 894,
      "outputs": []
    },
    {
      "cell_type": "code",
      "source": [
        "y = y.values.tolist()"
      ],
      "metadata": {
        "id": "cl8arZ5KVjT1"
      },
      "execution_count": 895,
      "outputs": []
    },
    {
      "cell_type": "code",
      "source": [
        "X_bin = [set(X.columns[x]) for idx, x in X.iterrows()]\n",
        "X_bin[0]"
      ],
      "metadata": {
        "colab": {
          "base_uri": "https://localhost:8080/"
        },
        "id": "p3fLzdOxbADg",
        "outputId": "472eb28d-5f50-46c9-dc24-9364c177438b"
      },
      "execution_count": 896,
      "outputs": [
        {
          "output_type": "execute_result",
          "data": {
            "text/plain": [
              "{'Residence_type_Rural',\n",
              " 'binary_age',\n",
              " 'binary_avg_glucose_level',\n",
              " 'binary_bmi',\n",
              " 'ever_married_Yes',\n",
              " 'gender_Male',\n",
              " 'heart_disease',\n",
              " 'hypertension',\n",
              " 'smoking_status_smokes',\n",
              " 'work_type_Private'}"
            ]
          },
          "metadata": {},
          "execution_count": 896
        }
      ]
    },
    {
      "cell_type": "code",
      "source": [
        "n_train=100"
      ],
      "metadata": {
        "id": "P7X8TTkCqgEA"
      },
      "execution_count": 897,
      "outputs": []
    },
    {
      "cell_type": "code",
      "source": [
        "%%time\n",
        "gen = predict_array(X_bin, np.array(y), n_train, use_tqdm=True, min_cardinality=1)\n",
        "y_preds, t_preds = apply_stopwatch(gen)"
      ],
      "metadata": {
        "colab": {
          "base_uri": "https://localhost:8080/"
        },
        "id": "qeH9O_I2qfJM",
        "outputId": "3f1721e9-2abb-44b0-8914-79878731ba70"
      },
      "execution_count": 898,
      "outputs": [
        {
          "output_type": "stream",
          "name": "stderr",
          "text": [
            "Predicting step by step: 100%|██████████| 1000/1000 [00:21<00:00, 41.96it/s]"
          ]
        },
        {
          "output_type": "stream",
          "name": "stdout",
          "text": [
            "CPU times: user 21.3 s, sys: 92.4 ms, total: 21.3 s\n",
            "Wall time: 21.5 s\n"
          ]
        },
        {
          "output_type": "stream",
          "name": "stderr",
          "text": [
            "\n"
          ]
        }
      ]
    },
    {
      "cell_type": "code",
      "source": [
        "from sklearn.metrics import accuracy_score, f1_score, precision_score, recall_score, classification_report\n",
        "print(classification_report(y[n_train:], y_preds))"
      ],
      "metadata": {
        "colab": {
          "base_uri": "https://localhost:8080/"
        },
        "id": "cP4zH9V3b7Rs",
        "outputId": "f07b6087-777c-43a0-bc5a-29c154ca5b2f"
      },
      "execution_count": 899,
      "outputs": [
        {
          "output_type": "stream",
          "name": "stdout",
          "text": [
            "              precision    recall  f1-score   support\n",
            "\n",
            "       False       0.77      0.95      0.85       681\n",
            "        True       0.43      0.12      0.19       219\n",
            "\n",
            "    accuracy                           0.75       900\n",
            "   macro avg       0.60      0.54      0.52       900\n",
            "weighted avg       0.69      0.75      0.69       900\n",
            "\n"
          ]
        }
      ]
    },
    {
      "cell_type": "markdown",
      "source": [
        "# Numpy realization + JIT"
      ],
      "metadata": {
        "id": "WU_nCHgA3cwZ"
      }
    },
    {
      "cell_type": "code",
      "source": [
        "import numba as nb"
      ],
      "metadata": {
        "id": "SFOhDZzEwUeZ"
      },
      "execution_count": 900,
      "outputs": []
    },
    {
      "cell_type": "code",
      "source": [
        "\n",
        "@nb.jit\n",
        "def predict_with_generators(\n",
        "        x: List[bool], X_train: List[set], Y_train: List[bool],\n",
        "        min_cardinality: int = 1\n",
        ") -> bool:\n",
        "    \"\"\"Lazy prediction for ``x`` based on training data ``X_train`` and ``Y_train``\n",
        "    Parameters\n",
        "    ----------\n",
        "    x : set\n",
        "        Description to make prediction for\n",
        "    X_train: List[set]\n",
        "        List of training examples\n",
        "    Y_train: List[bool]\n",
        "        List of labels of training examples\n",
        "    min_cardinality: int\n",
        "        Minimal size of an intersection required to count for counterexamples\n",
        "    Returns\n",
        "    -------\n",
        "    prediction: bool\n",
        "        Class prediction for ``x`` (either True or False)\n",
        "    \"\"\"\n",
        "\n",
        "    X_train = np.array(X_train)\n",
        "    Y_train = np.array(Y_train)\n",
        "    X_pos = np.array(X_train)[np.array(Y_train)==1]\n",
        "    X_neg = np.array(X_train)[np.array(Y_train)==0]\n",
        "\n",
        "    \n",
        "    n_counters_pos = 0  # number of counter examples for positive intersections\n",
        "    for x_pos in X_pos:\n",
        "        intersection_pos = (x & x_pos)\n",
        "        if (intersection_pos).sum() < min_cardinality:  # the intersection is too small\n",
        "            continue\n",
        "\n",
        "        n_counters_pos = X_neg[np.where(np.all(X_neg == intersection_pos, axis=1))].shape[0]\n",
        "\n",
        "    n_counters_neg = 0  # number of counter examples for negative intersections\n",
        "    for x_neg in X_neg:\n",
        "        intersection_neg = (x & x_neg)\n",
        "        if (intersection_neg).sum() < min_cardinality:\n",
        "            continue\n",
        "\n",
        "        n_counters_neg = X_pos[np.where(np.all(X_pos == intersection_neg, axis=1))].shape[0]\n",
        "\n",
        "    perc_counters_pos = n_counters_pos / X_pos.shape[0]\n",
        "    perc_counters_neg = n_counters_neg / X_neg.shape[0]\n",
        "    prediction = perc_counters_pos < perc_counters_neg\n",
        "    return prediction # lets return probability \n",
        "\n",
        "def predict_array(\n",
        "        X: List[set], Y: List[bool],\n",
        "        n_train: int, update_train: bool = True, use_tqdm: bool = False,\n",
        "        predict_func: PREDICTION_FUNCTION_HINT = predict_with_generators,\n",
        "        min_cardinality: int = 5\n",
        ") -> Iterator[bool]:\n",
        "    \"\"\"Predict the labels of multiple examples from ``X``\n",
        "    Parameters\n",
        "    ----------\n",
        "    X: List[set]\n",
        "        Set of train and test examples to classify represented with subsets of attributes\n",
        "    Y: List[bool]\n",
        "        Set of train and test labels for each example from X\n",
        "    n_train: int\n",
        "        Initial number of train examples. That is, make predictions only for examples from X_train[n_train:]\n",
        "    update_train: bool\n",
        "        A flag whether to consider true labels of predicted examples as training data or not.\n",
        "        If True, then for each X_i the training data consists of X_1, X_2, ..., X_{n_train}, ...,  X_{i-1}.\n",
        "        If False, then for each X_i the training data consists of X_1, X_2, ..., X_{n_train}\n",
        "    use_tqdm: bool\n",
        "        A flag whether to use tqdm progress bar (in case you like progress bars)\n",
        "    predict_func: <see PREDICTION_FUNCTION_HINT defined in this file>\n",
        "        A function to make prediction for each specific example from ``X``.\n",
        "        The default prediction function is ``predict_with_generator`` (considered as baseline for the home work).\n",
        "    Returns\n",
        "    -------\n",
        "    prediction: Iterator\n",
        "        Python generator with predictions for each x in X[n_train:]\n",
        "    \"\"\"\n",
        "    for i, x in tqdm(\n",
        "        enumerate(X[n_train:]),\n",
        "        initial=n_train, total=len(X),\n",
        "        desc='Predicting step by step',\n",
        "        disable=not use_tqdm,\n",
        "    ):\n",
        "        n_trains = n_train + i if update_train else n_train\n",
        "        yield predict_func(x, np.array(X[:n_trains]), np.array(Y[:n_trains]), min_cardinality = min_cardinality)\n",
        "\n",
        "\n",
        "def apply_stopwatch(iterator: Iterator):\n",
        "    \"\"\"Measure run time of each iteration of ``iterator``\n",
        "    The function can be applied e.g. for the output of ``predict_array`` function\n",
        "    \"\"\"\n",
        "    outputs = []\n",
        "    times = []\n",
        "\n",
        "    t_start = time.time()\n",
        "    for out in iterator:\n",
        "        dt = time.time() - t_start\n",
        "        outputs.append(out)\n",
        "        times.append(dt)\n",
        "        t_start = time.time()\n",
        "\n",
        "    return outputs, times"
      ],
      "metadata": {
        "id": "km30F9rPdF9Y"
      },
      "execution_count": 901,
      "outputs": []
    },
    {
      "cell_type": "code",
      "source": [
        "n_train = 100"
      ],
      "metadata": {
        "id": "O_e5-vQSybGV"
      },
      "execution_count": 902,
      "outputs": []
    },
    {
      "cell_type": "code",
      "source": [
        "%%time\n",
        "gen = predict_array(np.array(X), np.array(y), n_train, use_tqdm=True, min_cardinality=3)\n",
        "y_preds, t_preds = apply_stopwatch(gen)"
      ],
      "metadata": {
        "colab": {
          "base_uri": "https://localhost:8080/"
        },
        "id": "MonKnHDKlXXG",
        "outputId": "6e9eca55-524b-4af1-c3e4-5e5eb6c3a961"
      },
      "execution_count": 905,
      "outputs": [
        {
          "output_type": "stream",
          "name": "stderr",
          "text": [
            "Predicting step by step: 100%|██████████| 1000/1000 [00:08<00:00, 105.29it/s]"
          ]
        },
        {
          "output_type": "stream",
          "name": "stdout",
          "text": [
            "CPU times: user 8.48 s, sys: 40.9 ms, total: 8.52 s\n",
            "Wall time: 8.56 s\n"
          ]
        },
        {
          "output_type": "stream",
          "name": "stderr",
          "text": [
            "\n"
          ]
        }
      ]
    },
    {
      "cell_type": "code",
      "source": [
        "%%time\n",
        "gen = predict_array(np.array(X), np.array(y), n_train, use_tqdm=True, min_cardinality=3, update_train=False)\n",
        "y_preds_fixedtrain, t_preds_fixedtrain = apply_stopwatch(gen)"
      ],
      "metadata": {
        "colab": {
          "base_uri": "https://localhost:8080/"
        },
        "id": "g6KNGfLpZ5YK",
        "outputId": "119be2d5-80a5-4571-f10b-69edf19d2c14"
      },
      "execution_count": 906,
      "outputs": [
        {
          "output_type": "stream",
          "name": "stderr",
          "text": [
            "Predicting step by step: 100%|██████████| 1000/1000 [00:00<00:00, 909.18it/s]"
          ]
        },
        {
          "output_type": "stream",
          "name": "stdout",
          "text": [
            "CPU times: user 972 ms, sys: 11 ms, total: 983 ms\n",
            "Wall time: 999 ms\n"
          ]
        },
        {
          "output_type": "stream",
          "name": "stderr",
          "text": [
            "\n"
          ]
        }
      ]
    },
    {
      "cell_type": "code",
      "source": [
        "from sklearn.metrics import accuracy_score, f1_score, precision_score, recall_score, classification_report\n",
        "print(classification_report(y[n_train:], y_preds))"
      ],
      "metadata": {
        "colab": {
          "base_uri": "https://localhost:8080/"
        },
        "id": "fcTt0G5FueIc",
        "outputId": "2b36bd9e-52ca-402c-bc30-6507247b22d6"
      },
      "execution_count": 907,
      "outputs": [
        {
          "output_type": "stream",
          "name": "stdout",
          "text": [
            "              precision    recall  f1-score   support\n",
            "\n",
            "       False       0.76      0.99      0.86       681\n",
            "        True       0.12      0.00      0.01       219\n",
            "\n",
            "    accuracy                           0.75       900\n",
            "   macro avg       0.44      0.50      0.43       900\n",
            "weighted avg       0.60      0.75      0.65       900\n",
            "\n"
          ]
        }
      ]
    },
    {
      "cell_type": "code",
      "source": [
        "y_test = y[n_train:]"
      ],
      "metadata": {
        "id": "qrFe9zXTcWHG"
      },
      "execution_count": 908,
      "outputs": []
    },
    {
      "cell_type": "code",
      "source": [
        "from sklearn.metrics import accuracy_score, f1_score\n",
        "\n",
        "score_vals = {}\n",
        "for score_f in [accuracy_score, f1_score]:\n",
        "    score_name = score_f.__name__\n",
        "    preds = y_preds\n",
        "    score_vals[score_name] = [score_f(y_test[:i], preds[:i]) for i in range(1, len(preds))]\n",
        "    \n",
        "    score_name = score_f.__name__ + '_fixedtrain'\n",
        "    preds = y_preds_fixedtrain\n",
        "    score_vals[score_name] = [score_f(y_test[:i], preds[:i]) for i in range(1, len(preds))]"
      ],
      "metadata": {
        "id": "vhAjBekpZzzQ"
      },
      "execution_count": 909,
      "outputs": []
    },
    {
      "cell_type": "code",
      "source": [
        "import matplotlib.pyplot as plt\n",
        "plt.rcParams['figure.facecolor'] = (1,1,1,1)  # Replace default \"transparent\" background of the figure with the \"white\" one\n",
        "\n",
        "\n",
        "fig, axs = plt.subplots(2, 2, figsize=(12, 8))\n",
        "\n",
        "# First two plots are for prediction quality comparison\n",
        "for ax, t in zip(axs[0],['accuracy_score', 'f1_score']):\n",
        "    ax.set_ylim(0-0.05, 1+0.05)\n",
        "    ax.plot(range(n_train+1, len(X)), score_vals[t], label='baseline clf.')\n",
        "    ax.plot(range(n_train+1, len(X)), score_vals[t+'_fixedtrain'], label='baseline clf. (fixed train)')\n",
        "    \n",
        "# The third plot is for prediction speed comparison\n",
        "axs[1,0].plot(range(n_train, len(X)), t_preds, label='baseline clf.')\n",
        "axs[1,0].plot(range(n_train, len(X)), t_preds_fixedtrain, label='baseline clf. (fixed train)')\n",
        "\n",
        "# Add labels and titles to the plots\n",
        "for (ax, t_verb, dim) in zip(axs.flatten(), ['Accuracy score', 'F1 score', 'Prediction time'], ['','','(secs.)']):\n",
        "    ax.set_title('\\n'.join([f\"{t_verb} progression\", \"w.r.t. the number of train examples\"]), loc='left', size=18)\n",
        "    ax.set_xlabel('# of train examples', size=14)\n",
        "    ax.set_ylabel(f\"{t_verb} {dim}\".strip(), size=14)\n",
        "    ax.legend()\n",
        "    \n",
        "# Drop the predefined fourth plot since we do not use it\n",
        "axs[1,1].set_axis_off()    \n",
        "\n",
        "# Some postprocessing of plots\n",
        "plt.tight_layout()\n",
        "plt.subplots_adjust()\n",
        "\n",
        "plt.savefig('Classifier_comparison.png')\n",
        "plt.show()\n"
      ],
      "metadata": {
        "colab": {
          "base_uri": "https://localhost:8080/",
          "height": 585
        },
        "id": "enN6fkuOZ2p1",
        "outputId": "ccb9c0f3-a2a2-4ac5-c0d3-24d41a66c6f8"
      },
      "execution_count": 910,
      "outputs": [
        {
          "output_type": "display_data",
          "data": {
            "text/plain": [
              "<Figure size 864x576 with 4 Axes>"
            ],
            "image/png": "[encoded data removed]"
          },
          "metadata": {}
        }
      ]
    },
    {
      "cell_type": "markdown",
      "source": [
        "# Numba + Own algorithm + Comparison DecTree, RandomForest"
      ],
      "metadata": {
        "id": "YekgZ_X12j6s"
      }
    },
    {
      "cell_type": "code",
      "source": [
        "@nb.jit\n",
        "def predict_with_generators(\n",
        "        x: List[bool], X_train: List[set], Y_train: List[bool]\n",
        ") -> bool:\n",
        "\n",
        "    X_train = np.array(X_train)\n",
        "    Y_train = np.array(Y_train)\n",
        "    X_pos = np.array(X_train)[np.array(Y_train)==1]\n",
        "    X_neg = np.array(X_train)[np.array(Y_train)==0]\n",
        "\n",
        "    n_same_pos = X_pos[np.where(np.all(X_pos == x, axis=1))].shape[0]\n",
        "    n_same_neg = X_neg[np.where(np.all(X_neg == x, axis=1))].shape[0]\n",
        "\n",
        "    if n_same_pos >= n_same_neg:\n",
        "      return True\n",
        "    \n",
        "    else: return False\n",
        "\n",
        "def predict_array(\n",
        "        X: List[set], Y: List[bool],\n",
        "        n_train: int, update_train: bool = True, use_tqdm: bool = False,\n",
        "        predict_func: PREDICTION_FUNCTION_HINT = predict_with_generators,\n",
        "        min_cardinality: int = 5\n",
        ") -> Iterator[bool]:\n",
        "    \"\"\"Predict the labels of multiple examples from ``X``\n",
        "    Parameters\n",
        "    ----------\n",
        "    X: List[set]\n",
        "        Set of train and test examples to classify represented with subsets of attributes\n",
        "    Y: List[bool]\n",
        "        Set of train and test labels for each example from X\n",
        "    n_train: int\n",
        "        Initial number of train examples. That is, make predictions only for examples from X_train[n_train:]\n",
        "    update_train: bool\n",
        "        A flag whether to consider true labels of predicted examples as training data or not.\n",
        "        If True, then for each X_i the training data consists of X_1, X_2, ..., X_{n_train}, ...,  X_{i-1}.\n",
        "        If False, then for each X_i the training data consists of X_1, X_2, ..., X_{n_train}\n",
        "    use_tqdm: bool\n",
        "        A flag whether to use tqdm progress bar (in case you like progress bars)\n",
        "    predict_func: <see PREDICTION_FUNCTION_HINT defined in this file>\n",
        "        A function to make prediction for each specific example from ``X``.\n",
        "        The default prediction function is ``predict_with_generator`` (considered as baseline for the home work).\n",
        "    Returns\n",
        "    -------\n",
        "    prediction: Iterator\n",
        "        Python generator with predictions for each x in X[n_train:]\n",
        "    \"\"\"\n",
        "    for i, x in tqdm(\n",
        "        enumerate(X[n_train:]),\n",
        "        initial=n_train, total=len(X),\n",
        "        desc='Predicting step by step',\n",
        "        disable=not use_tqdm,\n",
        "    ):\n",
        "        n_trains = n_train + i if update_train else n_train\n",
        "        yield predict_func(x, np.array(X[:n_trains]), np.array(Y[:n_trains]), min_cardinality = min_cardinality)\n",
        "\n",
        "\n",
        "def apply_stopwatch(iterator: Iterator):\n",
        "    \"\"\"Measure run time of each iteration of ``iterator``\n",
        "    The function can be applied e.g. for the output of ``predict_array`` function\n",
        "    \"\"\"\n",
        "    outputs = []\n",
        "    times = []\n",
        "\n",
        "    t_start = time.time()\n",
        "    for out in iterator:\n",
        "        dt = time.time() - t_start\n",
        "        outputs.append(out)\n",
        "        times.append(dt)\n",
        "        t_start = time.time()\n",
        "\n",
        "    return outputs, times"
      ],
      "metadata": {
        "id": "PthuTBUwuecV"
      },
      "execution_count": 911,
      "outputs": []
    },
    {
      "cell_type": "code",
      "source": [
        "%%time\n",
        "gen = predict_array(np.array(X), np.array(y), n_train, use_tqdm=True, min_cardinality=3)\n",
        "y_preds, t_preds = apply_stopwatch(gen)"
      ],
      "metadata": {
        "colab": {
          "base_uri": "https://localhost:8080/"
        },
        "id": "HyCZx138iRpN",
        "outputId": "7f3a1b7c-56ac-4ee0-f1a1-bc0739c9c348"
      },
      "execution_count": 922,
      "outputs": [
        {
          "output_type": "stream",
          "name": "stderr",
          "text": [
            "Predicting step by step: 100%|██████████| 1000/1000 [00:00<00:00, 7374.01it/s]"
          ]
        },
        {
          "output_type": "stream",
          "name": "stdout",
          "text": [
            "CPU times: user 133 ms, sys: 0 ns, total: 133 ms\n",
            "Wall time: 133 ms\n"
          ]
        },
        {
          "output_type": "stream",
          "name": "stderr",
          "text": [
            "\n"
          ]
        }
      ]
    },
    {
      "cell_type": "code",
      "source": [
        "%%time\n",
        "gen = predict_array(np.array(X), np.array(y), n_train, use_tqdm=True, update_train=False)\n",
        "y_preds_fixedtrain, t_preds_fixedtrain = apply_stopwatch(gen)"
      ],
      "metadata": {
        "colab": {
          "base_uri": "https://localhost:8080/"
        },
        "id": "d_E1dIOgGCCE",
        "outputId": "6fa41b33-c764-43fd-b8bd-55885c160803"
      },
      "execution_count": 923,
      "outputs": [
        {
          "output_type": "stream",
          "name": "stderr",
          "text": [
            "Predicting step by step: 100%|██████████| 1000/1000 [00:00<00:00, 15620.47it/s]"
          ]
        },
        {
          "output_type": "stream",
          "name": "stdout",
          "text": [
            "CPU times: user 58.8 ms, sys: 0 ns, total: 58.8 ms\n",
            "Wall time: 62.5 ms\n"
          ]
        },
        {
          "output_type": "stream",
          "name": "stderr",
          "text": [
            "\n"
          ]
        }
      ]
    },
    {
      "cell_type": "code",
      "source": [
        "y_test = y[n_train:]"
      ],
      "metadata": {
        "id": "Zy59X6nfb8Wg"
      },
      "execution_count": 924,
      "outputs": []
    },
    {
      "cell_type": "code",
      "source": [
        "print(classification_report(y_test, y_preds))"
      ],
      "metadata": {
        "colab": {
          "base_uri": "https://localhost:8080/"
        },
        "id": "jH7c_QVKuD3w",
        "outputId": "3d47ab10-5395-42b8-8d45-e18fa2200920"
      },
      "execution_count": 925,
      "outputs": [
        {
          "output_type": "stream",
          "name": "stdout",
          "text": [
            "              precision    recall  f1-score   support\n",
            "\n",
            "       False       0.85      0.48      0.61       681\n",
            "        True       0.31      0.73      0.44       219\n",
            "\n",
            "    accuracy                           0.54       900\n",
            "   macro avg       0.58      0.60      0.52       900\n",
            "weighted avg       0.72      0.54      0.57       900\n",
            "\n"
          ]
        }
      ]
    },
    {
      "cell_type": "code",
      "source": [
        "y_test = y[n_train:]"
      ],
      "metadata": {
        "id": "O7oj5hk42Dum"
      },
      "execution_count": 926,
      "outputs": []
    },
    {
      "cell_type": "code",
      "source": [
        "from sklearn.metrics import accuracy_score, f1_score\n",
        "\n",
        "score_vals = {}\n",
        "for score_f in [accuracy_score, f1_score]:\n",
        "    score_name = score_f.__name__\n",
        "    preds = y_preds\n",
        "    score_vals[score_name] = [score_f(y_test[:i], preds[:i]) for i in range(1, len(preds))]\n",
        "    \n",
        "    score_name = score_f.__name__ + '_fixedtrain'\n",
        "    preds = y_preds_fixedtrain\n",
        "    score_vals[score_name] = [score_f(y_test[:i], preds[:i]) for i in range(1, len(preds))]"
      ],
      "metadata": {
        "id": "94P_AVsXl_NG"
      },
      "execution_count": 927,
      "outputs": []
    },
    {
      "cell_type": "code",
      "source": [
        "import matplotlib.pyplot as plt\n",
        "plt.rcParams['figure.facecolor'] = (1,1,1,1)  # Replace default \"transparent\" background of the figure with the \"white\" one\n",
        "\n",
        "\n",
        "fig, axs = plt.subplots(2, 2, figsize=(12, 8))\n",
        "\n",
        "# First two plots are for prediction quality comparison\n",
        "for ax, t in zip(axs[0],['accuracy_score', 'f1_score']):\n",
        "    ax.set_ylim(0-0.05, 1+0.05)\n",
        "    ax.plot(range(n_train+1, len(X)), score_vals[t], label='baseline clf.')\n",
        "    ax.plot(range(n_train+1, len(X)), score_vals[t+'_fixedtrain'], label='baseline clf. (fixed train)')\n",
        "    \n",
        "# The third plot is for prediction speed comparison\n",
        "axs[1,0].plot(range(n_train, len(X)), t_preds, label='baseline clf.')\n",
        "axs[1,0].plot(range(n_train, len(X)), t_preds_fixedtrain, label='baseline clf. (fixed train)')\n",
        "\n",
        "# Add labels and titles to the plots\n",
        "for (ax, t_verb, dim) in zip(axs.flatten(), ['Accuracy score', 'F1 score', 'Prediction time'], ['','','(secs.)']):\n",
        "    ax.set_title('\\n'.join([f\"{t_verb} progression\", \"w.r.t. the number of train examples\"]), loc='left', size=18)\n",
        "    ax.set_xlabel('# of train examples', size=14)\n",
        "    ax.set_ylabel(f\"{t_verb} {dim}\".strip(), size=14)\n",
        "    ax.legend()\n",
        "    \n",
        "# Drop the predefined fourth plot since we do not use it\n",
        "axs[1,1].set_axis_off()    \n",
        "\n",
        "# Some postprocessing of plots\n",
        "plt.tight_layout()\n",
        "plt.subplots_adjust()\n",
        "\n",
        "plt.savefig('Classifier_comparison.png')\n",
        "plt.show()\n"
      ],
      "metadata": {
        "colab": {
          "base_uri": "https://localhost:8080/",
          "height": 585
        },
        "id": "ScOn-foP0ckb",
        "outputId": "f5584828-d5b9-496b-c83a-7aee2f55fde1"
      },
      "execution_count": 928,
      "outputs": [
        {
          "output_type": "display_data",
          "data": {
            "text/plain": [
              "<Figure size 864x576 with 4 Axes>"
            ],
            "image/png": "[encoded data removed]"
          },
          "metadata": {}
        }
      ]
    },
    {
      "cell_type": "code",
      "source": [
        "%%time\n",
        "\n",
        "from sklearn.model_selection import train_test_split\n",
        "from sklearn.tree import DecisionTreeClassifier\n",
        "from sklearn.ensemble import RandomForestClassifier\n",
        "\n",
        "X_train, X_test, y_train, y_test = train_test_split(X, y, shuffle=True, test_size=0.15)\n",
        "\n",
        "tree = DecisionTreeClassifier().fit(X_train, y_train)\n",
        "\n",
        "preds = tree.predict(X_test).tolist()\n",
        "\n",
        "print(classification_report(y_test, preds))"
      ],
      "metadata": {
        "colab": {
          "base_uri": "https://localhost:8080/"
        },
        "id": "Yxap7dYKdeDW",
        "outputId": "1ae56964-81e5-47fa-ab61-458c458d8b2a"
      },
      "execution_count": 919,
      "outputs": [
        {
          "output_type": "stream",
          "name": "stdout",
          "text": [
            "              precision    recall  f1-score   support\n",
            "\n",
            "       False       0.77      0.88      0.82       108\n",
            "        True       0.50      0.31      0.38        42\n",
            "\n",
            "    accuracy                           0.72       150\n",
            "   macro avg       0.63      0.59      0.60       150\n",
            "weighted avg       0.69      0.72      0.70       150\n",
            "\n",
            "CPU times: user 12.7 ms, sys: 984 µs, total: 13.7 ms\n",
            "Wall time: 14.9 ms\n"
          ]
        }
      ]
    },
    {
      "cell_type": "code",
      "source": [
        "%%time\n",
        "\n",
        "X_train, X_test, y_train, y_test = train_test_split(X, y, shuffle=True, test_size=0.15)\n",
        "\n",
        "rf = RandomForestClassifier().fit(X_train, y_train)\n",
        "\n",
        "preds = rf.predict(X_test).tolist()\n",
        "\n",
        "print(classification_report(y_test, preds))"
      ],
      "metadata": {
        "colab": {
          "base_uri": "https://localhost:8080/"
        },
        "id": "d79Ttr6wef5T",
        "outputId": "f93d120a-f92d-412b-b26d-eb3fd58bf024"
      },
      "execution_count": 920,
      "outputs": [
        {
          "output_type": "stream",
          "name": "stdout",
          "text": [
            "              precision    recall  f1-score   support\n",
            "\n",
            "       False       0.78      0.87      0.82       110\n",
            "        True       0.48      0.33      0.39        40\n",
            "\n",
            "    accuracy                           0.73       150\n",
            "   macro avg       0.63      0.60      0.61       150\n",
            "weighted avg       0.70      0.73      0.71       150\n",
            "\n",
            "CPU times: user 178 ms, sys: 3.01 ms, total: 181 ms\n",
            "Wall time: 182 ms\n"
          ]
        }
      ]
    },
    {
      "cell_type": "markdown",
      "source": [
        "# Pattern structure"
      ],
      "metadata": {
        "id": "utu9rACI2uXd"
      }
    },
    {
      "cell_type": "code",
      "source": [
        "\n",
        "def predict_with_generators_pattern(\n",
        "        x: List[bool], X_train: List[set], Y_train: List[bool]\n",
        ") -> bool:\n",
        "\n",
        "    X_train = np.array(X_train)\n",
        "    Y_train = np.array(Y_train)\n",
        "    X_pos = np.array(X_train)[np.array(Y_train)==1]\n",
        "    X_neg = np.array(X_train)[np.array(Y_train)==0]\n",
        "    \n",
        "\n",
        "\n",
        "    for row in range(X_train.shape[0]):\n",
        "      pos = 0\n",
        "      neg = 0\n",
        "      conds = [(min(k, l), max(k, l)) for k,l in zip(X_train[row], x)]\n",
        "      for rowc in range(row+1,X_train.shape[0]):\n",
        "        \n",
        "        for col in range(X_train.shape[1]):\n",
        "          #------\n",
        "          if type(X_train[rowc][col]) in [np.float64, int, float]:\n",
        "            if (X_train[rowc][col] >= conds[col][0]) and (X_train[rowc][col] <= conds[col][1]):\n",
        "              pass\n",
        "            else:\n",
        "              break\n",
        "          #-------\n",
        "          elif type(X_train[rowc][col]) not in [np.float64, int, float]:\n",
        "            if (X_train[rowc][col] in conds[col]):\n",
        "              pass\n",
        "            else:\n",
        "              break\n",
        "          #--------\n",
        "        else:\n",
        "          if y[rowc] == True:\n",
        "            pos += 1\n",
        "          else: neg += 1\n",
        "        \n",
        "      if pos > 0 and neg == 0:\n",
        "        #print(\"POS\", pos)\n",
        "        return True\n",
        "      elif pos == 0 and neg > 0:\n",
        "        #print(\"NEG\", neg)\n",
        "        return False\n",
        "      #print(row)\n",
        "    return \"UNCLASS\"\n",
        "    \n",
        "\n",
        "\n",
        "\n",
        "def predict_array_pattern(\n",
        "        X: List[set], Y: List[bool],\n",
        "        n_test: int, use_tqdm: bool = False,\n",
        "        predict_func: PREDICTION_FUNCTION_HINT = predict_with_generators_pattern,\n",
        "        min_cardinality: int = 5\n",
        ") -> Iterator[bool]:\n",
        "    \"\"\"Predict the labels of multiple examples from ``X``\n",
        "    Parameters\n",
        "    ----------\n",
        "    X: List[set]\n",
        "        Set of train and test examples to classify represented with subsets of attributes\n",
        "    Y: List[bool]\n",
        "        Set of train and test labels for each example from X\n",
        "    n_train: int\n",
        "        Initial number of train examples. That is, make predictions only for examples from X_train[n_train:]\n",
        "    update_train: bool\n",
        "        A flag whether to consider true labels of predicted examples as training data or not.\n",
        "        If True, then for each X_i the training data consists of X_1, X_2, ..., X_{n_train}, ...,  X_{i-1}.\n",
        "        If False, then for each X_i the training data consists of X_1, X_2, ..., X_{n_train}\n",
        "    use_tqdm: bool\n",
        "        A flag whether to use tqdm progress bar (in case you like progress bars)\n",
        "    predict_func: <see PREDICTION_FUNCTION_HINT defined in this file>\n",
        "        A function to make prediction for each specific example from ``X``.\n",
        "        The default prediction function is ``predict_with_generator`` (considered as baseline for the home work).\n",
        "    Returns\n",
        "    -------\n",
        "    prediction: Iterator\n",
        "        Python generator with predictions for each x in X[n_train:]\n",
        "    \"\"\"\n",
        "    for i, x in tqdm(\n",
        "        enumerate(X[:n_test]),\n",
        "        initial=0, total=n_test,\n",
        "        desc='Predicting step by step',\n",
        "        disable=not use_tqdm,\n",
        "    ):\n",
        "        yield predict_func(x, np.array(X[n_test:]), np.array(Y[n_test:]))\n",
        "\n",
        "\n",
        "def apply_stopwatch(iterator: Iterator):\n",
        "    \"\"\"Measure run time of each iteration of ``iterator``\n",
        "    The function can be applied e.g. for the output of ``predict_array`` function\n",
        "    \"\"\"\n",
        "    outputs = []\n",
        "    times = []\n",
        "\n",
        "    t_start = time.time()\n",
        "    for out in iterator:\n",
        "        dt = time.time() - t_start\n",
        "        outputs.append(out)\n",
        "        times.append(dt)\n",
        "        t_start = time.time()\n",
        "\n",
        "    return outputs, times"
      ],
      "metadata": {
        "id": "VlR0W16G2wXj"
      },
      "execution_count": 779,
      "outputs": []
    },
    {
      "cell_type": "code",
      "source": [
        "df = pd.read_csv('/content/healthcare-dataset-stroke-data (1).csv')\n",
        "\n",
        "\n",
        "\n",
        "df = df[:2000]\n",
        "\n",
        "df = df.sample(frac=1).reset_index(drop=True)\n",
        "\n",
        "df['bmi'].fillna(df['bmi'].mean(), inplace=True)\n",
        "\n",
        "y = df['stroke']\n",
        "X = df.drop(columns='stroke')\n",
        "\n",
        "n_test = 200"
      ],
      "metadata": {
        "id": "6AvgQi43f2Fa"
      },
      "execution_count": 837,
      "outputs": []
    },
    {
      "cell_type": "code",
      "source": [
        "%%time\n",
        "gen = predict_array_pattern(np.array(X), np.array(y), n_test, use_tqdm=True)\n",
        "y_preds, t_preds = apply_stopwatch(gen)"
      ],
      "metadata": {
        "colab": {
          "base_uri": "https://localhost:8080/"
        },
        "id": "nIDo1Li-OVQx",
        "outputId": "4e601750-dd55-493a-d892-3f1100ac428c"
      },
      "execution_count": 788,
      "outputs": [
        {
          "output_type": "stream",
          "name": "stderr",
          "text": [
            "Predicting step by step: 100%|██████████| 200/200 [00:02<00:00, 78.54it/s]"
          ]
        },
        {
          "output_type": "stream",
          "name": "stdout",
          "text": [
            "CPU times: user 2.53 s, sys: 14 ms, total: 2.54 s\n",
            "Wall time: 2.55 s\n"
          ]
        },
        {
          "output_type": "stream",
          "name": "stderr",
          "text": [
            "\n"
          ]
        }
      ]
    },
    {
      "cell_type": "code",
      "source": [
        "from sklearn.metrics import accuracy_score, f1_score, precision_score, recall_score, classification_report\n",
        "print(classification_report(y[:n_test], y_preds))"
      ],
      "metadata": {
        "colab": {
          "base_uri": "https://localhost:8080/"
        },
        "id": "BmzTTDwHPU1X",
        "outputId": "2ad77102-1de5-4099-e750-e20a1ab80b8e"
      },
      "execution_count": 789,
      "outputs": [
        {
          "output_type": "stream",
          "name": "stdout",
          "text": [
            "              precision    recall  f1-score   support\n",
            "\n",
            "           0       0.89      0.98      0.93       178\n",
            "           1       0.20      0.05      0.07        22\n",
            "\n",
            "    accuracy                           0.88       200\n",
            "   macro avg       0.55      0.51      0.50       200\n",
            "weighted avg       0.82      0.88      0.84       200\n",
            "\n"
          ]
        }
      ]
    },
    {
      "cell_type": "code",
      "source": [
        "X = pd.get_dummies(data=X, columns=obj_cols)"
      ],
      "metadata": {
        "id": "xdzP0Mp1ivkU"
      },
      "execution_count": 791,
      "outputs": []
    },
    {
      "cell_type": "code",
      "source": [
        "%%time\n",
        "\n",
        "X_train, X_test, y_train, y_test = train_test_split(X, y, shuffle=True, test_size=0.15)\n",
        "\n",
        "tree = DecisionTreeClassifier().fit(X_train, y_train)\n",
        "\n",
        "preds = tree.predict(X_test).tolist()\n",
        "\n",
        "print(classification_report(y_test, preds))\n"
      ],
      "metadata": {
        "colab": {
          "base_uri": "https://localhost:8080/"
        },
        "id": "orHP8gcUhdrM",
        "outputId": "cfe6cbe3-9d9f-480a-f4d7-0f072347c503"
      },
      "execution_count": 792,
      "outputs": [
        {
          "output_type": "stream",
          "name": "stdout",
          "text": [
            "              precision    recall  f1-score   support\n",
            "\n",
            "           0       0.91      0.84      0.88       269\n",
            "           1       0.18      0.29      0.22        31\n",
            "\n",
            "    accuracy                           0.79       300\n",
            "   macro avg       0.54      0.57      0.55       300\n",
            "weighted avg       0.84      0.79      0.81       300\n",
            "\n",
            "CPU times: user 28 ms, sys: 984 µs, total: 29 ms\n",
            "Wall time: 50.7 ms\n"
          ]
        }
      ]
    },
    {
      "cell_type": "code",
      "source": [
        "\n",
        "%%time\n",
        "\n",
        "X_train, X_test, y_train, y_test = train_test_split(X, y, shuffle=True, test_size=0.15)\n",
        "\n",
        "rf = RandomForestClassifier().fit(X_train, y_train)\n",
        "\n",
        "preds = rf.predict(X_test).tolist()\n",
        "\n",
        "print(classification_report(y_test, preds))"
      ],
      "metadata": {
        "colab": {
          "base_uri": "https://localhost:8080/"
        },
        "id": "ZZ1SFCGRhn9r",
        "outputId": "615bb6a9-f457-4096-84e6-6b8b6495bb03"
      },
      "execution_count": 793,
      "outputs": [
        {
          "output_type": "stream",
          "name": "stdout",
          "text": [
            "              precision    recall  f1-score   support\n",
            "\n",
            "           0       0.89      0.99      0.94       265\n",
            "           1       0.50      0.06      0.10        35\n",
            "\n",
            "    accuracy                           0.88       300\n",
            "   macro avg       0.69      0.52      0.52       300\n",
            "weighted avg       0.84      0.88      0.84       300\n",
            "\n",
            "CPU times: user 289 ms, sys: 994 µs, total: 290 ms\n",
            "Wall time: 292 ms\n"
          ]
        }
      ]
    },
    {
      "cell_type": "code",
      "source": [
        "pip install catboost"
      ],
      "metadata": {
        "colab": {
          "base_uri": "https://localhost:8080/"
        },
        "id": "mTebpluWliLl",
        "outputId": "2002b6ca-78a8-4384-fc3f-6947b47a889b"
      },
      "execution_count": 835,
      "outputs": [
        {
          "output_type": "stream",
          "name": "stdout",
          "text": [
            "Looking in indexes: https://pypi.org/simple, https://us-python.pkg.dev/colab-wheels/public/simple/\n",
            "Collecting catboost\n",
            "  Downloading catboost-1.1.1-cp38-none-manylinux1_x86_64.whl (76.6 MB)\n",
            "\u001b[K     |████████████████████████████████| 76.6 MB 20 kB/s \n",
            "\u001b[?25hRequirement already satisfied: pandas>=0.24.0 in /usr/local/lib/python3.8/dist-packages (from catboost) (1.3.5)\n",
            "Requirement already satisfied: matplotlib in /usr/local/lib/python3.8/dist-packages (from catboost) (3.2.2)\n",
            "Requirement already satisfied: scipy in /usr/local/lib/python3.8/dist-packages (from catboost) (1.7.3)\n",
            "Requirement already satisfied: numpy>=1.16.0 in /usr/local/lib/python3.8/dist-packages (from catboost) (1.21.6)\n",
            "Requirement already satisfied: six in /usr/local/lib/python3.8/dist-packages (from catboost) (1.15.0)\n",
            "Requirement already satisfied: graphviz in /usr/local/lib/python3.8/dist-packages (from catboost) (0.10.1)\n",
            "Requirement already satisfied: plotly in /usr/local/lib/python3.8/dist-packages (from catboost) (5.5.0)\n",
            "Requirement already satisfied: python-dateutil>=2.7.3 in /usr/local/lib/python3.8/dist-packages (from pandas>=0.24.0->catboost) (2.8.2)\n",
            "Requirement already satisfied: pytz>=2017.3 in /usr/local/lib/python3.8/dist-packages (from pandas>=0.24.0->catboost) (2022.6)\n",
            "Requirement already satisfied: cycler>=0.10 in /usr/local/lib/python3.8/dist-packages (from matplotlib->catboost) (0.11.0)\n",
            "Requirement already satisfied: kiwisolver>=1.0.1 in /usr/local/lib/python3.8/dist-packages (from matplotlib->catboost) (1.4.4)\n",
            "Requirement already satisfied: pyparsing!=2.0.4,!=2.1.2,!=2.1.6,>=2.0.1 in /usr/local/lib/python3.8/dist-packages (from matplotlib->catboost) (3.0.9)\n",
            "Requirement already satisfied: tenacity>=6.2.0 in /usr/local/lib/python3.8/dist-packages (from plotly->catboost) (8.1.0)\n",
            "Installing collected packages: catboost\n",
            "Successfully installed catboost-1.1.1\n"
          ]
        }
      ]
    },
    {
      "cell_type": "code",
      "source": [
        "import catboost as cat\n",
        "\n",
        "y = df['stroke']\n",
        "X = df.drop(columns='stroke')\n",
        "\n",
        "X_train, X_test, y_train, y_test = train_test_split(X, y, shuffle=True, test_size=0.15)\n",
        "\n",
        "rf = cat.CatBoostClassifier().fit(X_train, y_train, cat_features=obj_cols)\n",
        "\n",
        "preds = rf.predict(X_test).tolist()\n",
        "\n",
        "print(classification_report(y_test, preds))"
      ],
      "metadata": {
        "colab": {
          "base_uri": "https://localhost:8080/"
        },
        "id": "F0Torcctldhi",
        "outputId": "aaca3179-09c3-4b70-f52e-e21e185cc6aa"
      },
      "execution_count": 841,
      "outputs": [
        {
          "output_type": "stream",
          "name": "stdout",
          "text": [
            "Learning rate set to 0.012922\n",
            "0:\tlearn: 0.6778996\ttotal: 4.79ms\tremaining: 4.78s\n",
            "1:\tlearn: 0.6625244\ttotal: 10.1ms\tremaining: 5.03s\n",
            "2:\tlearn: 0.6506865\ttotal: 14.7ms\tremaining: 4.89s\n",
            "3:\tlearn: 0.6371107\ttotal: 19.4ms\tremaining: 4.83s\n",
            "4:\tlearn: 0.6277790\ttotal: 22.9ms\tremaining: 4.56s\n",
            "5:\tlearn: 0.6157357\ttotal: 27.5ms\tremaining: 4.55s\n",
            "6:\tlearn: 0.6056440\ttotal: 32.1ms\tremaining: 4.55s\n",
            "7:\tlearn: 0.5942845\ttotal: 36.8ms\tremaining: 4.56s\n",
            "8:\tlearn: 0.5840342\ttotal: 39.2ms\tremaining: 4.32s\n",
            "9:\tlearn: 0.5741785\ttotal: 43.9ms\tremaining: 4.34s\n",
            "10:\tlearn: 0.5646494\ttotal: 46.6ms\tremaining: 4.19s\n",
            "11:\tlearn: 0.5544565\ttotal: 51.2ms\tremaining: 4.22s\n",
            "12:\tlearn: 0.5436618\ttotal: 56ms\tremaining: 4.25s\n",
            "13:\tlearn: 0.5353901\ttotal: 60ms\tremaining: 4.22s\n",
            "14:\tlearn: 0.5265279\ttotal: 63.8ms\tremaining: 4.19s\n",
            "15:\tlearn: 0.5178029\ttotal: 66.6ms\tremaining: 4.1s\n",
            "16:\tlearn: 0.5100330\ttotal: 69.5ms\tremaining: 4.02s\n",
            "17:\tlearn: 0.5049644\ttotal: 72.8ms\tremaining: 3.97s\n",
            "18:\tlearn: 0.5003914\ttotal: 74.7ms\tremaining: 3.85s\n",
            "19:\tlearn: 0.4947628\ttotal: 77.1ms\tremaining: 3.78s\n",
            "20:\tlearn: 0.4879324\ttotal: 81.4ms\tremaining: 3.79s\n",
            "21:\tlearn: 0.4833719\ttotal: 84.7ms\tremaining: 3.77s\n",
            "22:\tlearn: 0.4777906\ttotal: 87.7ms\tremaining: 3.73s\n",
            "23:\tlearn: 0.4710204\ttotal: 92.2ms\tremaining: 3.75s\n",
            "24:\tlearn: 0.4673261\ttotal: 94.5ms\tremaining: 3.69s\n",
            "25:\tlearn: 0.4612452\ttotal: 98.4ms\tremaining: 3.69s\n",
            "26:\tlearn: 0.4578043\ttotal: 101ms\tremaining: 3.63s\n",
            "27:\tlearn: 0.4544670\ttotal: 103ms\tremaining: 3.58s\n",
            "28:\tlearn: 0.4502547\ttotal: 106ms\tremaining: 3.54s\n",
            "29:\tlearn: 0.4439834\ttotal: 111ms\tremaining: 3.58s\n",
            "30:\tlearn: 0.4397362\ttotal: 114ms\tremaining: 3.56s\n",
            "31:\tlearn: 0.4344747\ttotal: 119ms\tremaining: 3.59s\n",
            "32:\tlearn: 0.4307079\ttotal: 122ms\tremaining: 3.58s\n",
            "33:\tlearn: 0.4259806\ttotal: 126ms\tremaining: 3.58s\n",
            "34:\tlearn: 0.4203793\ttotal: 129ms\tremaining: 3.57s\n",
            "35:\tlearn: 0.4164148\ttotal: 133ms\tremaining: 3.55s\n",
            "36:\tlearn: 0.4132441\ttotal: 136ms\tremaining: 3.53s\n",
            "37:\tlearn: 0.4105575\ttotal: 140ms\tremaining: 3.54s\n",
            "38:\tlearn: 0.4083483\ttotal: 142ms\tremaining: 3.5s\n",
            "39:\tlearn: 0.4062041\ttotal: 144ms\tremaining: 3.45s\n",
            "40:\tlearn: 0.4022134\ttotal: 147ms\tremaining: 3.45s\n",
            "41:\tlearn: 0.3994250\ttotal: 152ms\tremaining: 3.46s\n",
            "42:\tlearn: 0.3960200\ttotal: 155ms\tremaining: 3.45s\n",
            "43:\tlearn: 0.3935775\ttotal: 158ms\tremaining: 3.43s\n",
            "44:\tlearn: 0.3895170\ttotal: 162ms\tremaining: 3.45s\n",
            "45:\tlearn: 0.3872893\ttotal: 165ms\tremaining: 3.42s\n",
            "46:\tlearn: 0.3855793\ttotal: 168ms\tremaining: 3.4s\n",
            "47:\tlearn: 0.3831757\ttotal: 172ms\tremaining: 3.42s\n",
            "48:\tlearn: 0.3806945\ttotal: 177ms\tremaining: 3.43s\n",
            "49:\tlearn: 0.3784453\ttotal: 179ms\tremaining: 3.4s\n",
            "50:\tlearn: 0.3766662\ttotal: 181ms\tremaining: 3.38s\n",
            "51:\tlearn: 0.3733519\ttotal: 186ms\tremaining: 3.4s\n",
            "52:\tlearn: 0.3710772\ttotal: 195ms\tremaining: 3.48s\n",
            "53:\tlearn: 0.3688871\ttotal: 200ms\tremaining: 3.5s\n",
            "54:\tlearn: 0.3664410\ttotal: 202ms\tremaining: 3.47s\n",
            "55:\tlearn: 0.3646982\ttotal: 205ms\tremaining: 3.46s\n",
            "56:\tlearn: 0.3620110\ttotal: 209ms\tremaining: 3.46s\n",
            "57:\tlearn: 0.3608881\ttotal: 212ms\tremaining: 3.44s\n",
            "58:\tlearn: 0.3595153\ttotal: 216ms\tremaining: 3.44s\n",
            "59:\tlearn: 0.3578623\ttotal: 219ms\tremaining: 3.43s\n",
            "60:\tlearn: 0.3568414\ttotal: 221ms\tremaining: 3.4s\n",
            "61:\tlearn: 0.3558158\ttotal: 223ms\tremaining: 3.38s\n",
            "62:\tlearn: 0.3538422\ttotal: 228ms\tremaining: 3.38s\n",
            "63:\tlearn: 0.3521089\ttotal: 230ms\tremaining: 3.37s\n",
            "64:\tlearn: 0.3505147\ttotal: 235ms\tremaining: 3.37s\n",
            "65:\tlearn: 0.3495280\ttotal: 237ms\tremaining: 3.35s\n",
            "66:\tlearn: 0.3484437\ttotal: 239ms\tremaining: 3.33s\n",
            "67:\tlearn: 0.3471356\ttotal: 242ms\tremaining: 3.32s\n",
            "68:\tlearn: 0.3463482\ttotal: 244ms\tremaining: 3.29s\n",
            "69:\tlearn: 0.3443517\ttotal: 248ms\tremaining: 3.3s\n",
            "70:\tlearn: 0.3436151\ttotal: 250ms\tremaining: 3.27s\n",
            "71:\tlearn: 0.3415574\ttotal: 255ms\tremaining: 3.28s\n",
            "72:\tlearn: 0.3398809\ttotal: 259ms\tremaining: 3.29s\n",
            "73:\tlearn: 0.3392213\ttotal: 261ms\tremaining: 3.27s\n",
            "74:\tlearn: 0.3378925\ttotal: 266ms\tremaining: 3.28s\n",
            "75:\tlearn: 0.3366971\ttotal: 269ms\tremaining: 3.27s\n",
            "76:\tlearn: 0.3351534\ttotal: 273ms\tremaining: 3.27s\n",
            "77:\tlearn: 0.3342069\ttotal: 278ms\tremaining: 3.28s\n",
            "78:\tlearn: 0.3332806\ttotal: 280ms\tremaining: 3.27s\n",
            "79:\tlearn: 0.3319652\ttotal: 285ms\tremaining: 3.27s\n",
            "80:\tlearn: 0.3314382\ttotal: 287ms\tremaining: 3.25s\n",
            "81:\tlearn: 0.3297897\ttotal: 292ms\tremaining: 3.26s\n",
            "82:\tlearn: 0.3291006\ttotal: 295ms\tremaining: 3.26s\n",
            "83:\tlearn: 0.3272977\ttotal: 299ms\tremaining: 3.27s\n",
            "84:\tlearn: 0.3254508\ttotal: 304ms\tremaining: 3.27s\n",
            "85:\tlearn: 0.3242133\ttotal: 306ms\tremaining: 3.25s\n",
            "86:\tlearn: 0.3231271\ttotal: 311ms\tremaining: 3.27s\n",
            "87:\tlearn: 0.3218515\ttotal: 317ms\tremaining: 3.29s\n",
            "88:\tlearn: 0.3214668\ttotal: 319ms\tremaining: 3.27s\n",
            "89:\tlearn: 0.3203081\ttotal: 323ms\tremaining: 3.26s\n",
            "90:\tlearn: 0.3190231\ttotal: 326ms\tremaining: 3.25s\n",
            "91:\tlearn: 0.3185330\ttotal: 328ms\tremaining: 3.24s\n",
            "92:\tlearn: 0.3173762\ttotal: 333ms\tremaining: 3.24s\n",
            "93:\tlearn: 0.3161112\ttotal: 337ms\tremaining: 3.25s\n",
            "94:\tlearn: 0.3154407\ttotal: 341ms\tremaining: 3.25s\n",
            "95:\tlearn: 0.3139186\ttotal: 346ms\tremaining: 3.25s\n",
            "96:\tlearn: 0.3127834\ttotal: 353ms\tremaining: 3.29s\n",
            "97:\tlearn: 0.3118663\ttotal: 361ms\tremaining: 3.32s\n",
            "98:\tlearn: 0.3116028\ttotal: 365ms\tremaining: 3.33s\n",
            "99:\tlearn: 0.3104828\ttotal: 370ms\tremaining: 3.33s\n",
            "100:\tlearn: 0.3099797\ttotal: 373ms\tremaining: 3.32s\n",
            "101:\tlearn: 0.3095662\ttotal: 378ms\tremaining: 3.32s\n",
            "102:\tlearn: 0.3093350\ttotal: 380ms\tremaining: 3.31s\n",
            "103:\tlearn: 0.3086873\ttotal: 391ms\tremaining: 3.37s\n",
            "104:\tlearn: 0.3076996\ttotal: 397ms\tremaining: 3.39s\n",
            "105:\tlearn: 0.3068499\ttotal: 402ms\tremaining: 3.39s\n",
            "106:\tlearn: 0.3054546\ttotal: 406ms\tremaining: 3.39s\n",
            "107:\tlearn: 0.3045320\ttotal: 410ms\tremaining: 3.39s\n",
            "108:\tlearn: 0.3043448\ttotal: 413ms\tremaining: 3.37s\n",
            "109:\tlearn: 0.3039289\ttotal: 415ms\tremaining: 3.36s\n",
            "110:\tlearn: 0.3036003\ttotal: 417ms\tremaining: 3.34s\n",
            "111:\tlearn: 0.3025080\ttotal: 422ms\tremaining: 3.34s\n",
            "112:\tlearn: 0.3017449\ttotal: 433ms\tremaining: 3.4s\n",
            "113:\tlearn: 0.3008643\ttotal: 440ms\tremaining: 3.42s\n",
            "114:\tlearn: 0.3000356\ttotal: 444ms\tremaining: 3.42s\n",
            "115:\tlearn: 0.2990919\ttotal: 448ms\tremaining: 3.42s\n",
            "116:\tlearn: 0.2981172\ttotal: 453ms\tremaining: 3.42s\n",
            "117:\tlearn: 0.2976096\ttotal: 458ms\tremaining: 3.42s\n",
            "118:\tlearn: 0.2968148\ttotal: 462ms\tremaining: 3.42s\n",
            "119:\tlearn: 0.2965710\ttotal: 465ms\tremaining: 3.41s\n",
            "120:\tlearn: 0.2956580\ttotal: 469ms\tremaining: 3.41s\n",
            "121:\tlearn: 0.2950713\ttotal: 474ms\tremaining: 3.41s\n",
            "122:\tlearn: 0.2944810\ttotal: 478ms\tremaining: 3.41s\n",
            "123:\tlearn: 0.2939870\ttotal: 482ms\tremaining: 3.4s\n",
            "124:\tlearn: 0.2932626\ttotal: 486ms\tremaining: 3.4s\n",
            "125:\tlearn: 0.2924861\ttotal: 491ms\tremaining: 3.41s\n",
            "126:\tlearn: 0.2916975\ttotal: 495ms\tremaining: 3.4s\n",
            "127:\tlearn: 0.2908991\ttotal: 500ms\tremaining: 3.4s\n",
            "128:\tlearn: 0.2904953\ttotal: 504ms\tremaining: 3.4s\n",
            "129:\tlearn: 0.2900102\ttotal: 508ms\tremaining: 3.4s\n",
            "130:\tlearn: 0.2898966\ttotal: 511ms\tremaining: 3.39s\n",
            "131:\tlearn: 0.2893856\ttotal: 516ms\tremaining: 3.39s\n",
            "132:\tlearn: 0.2887327\ttotal: 520ms\tremaining: 3.39s\n",
            "133:\tlearn: 0.2883469\ttotal: 524ms\tremaining: 3.39s\n",
            "134:\tlearn: 0.2879762\ttotal: 527ms\tremaining: 3.37s\n",
            "135:\tlearn: 0.2872934\ttotal: 531ms\tremaining: 3.37s\n",
            "136:\tlearn: 0.2867102\ttotal: 535ms\tremaining: 3.37s\n",
            "137:\tlearn: 0.2858663\ttotal: 540ms\tremaining: 3.37s\n",
            "138:\tlearn: 0.2852670\ttotal: 544ms\tremaining: 3.37s\n",
            "139:\tlearn: 0.2848195\ttotal: 549ms\tremaining: 3.37s\n",
            "140:\tlearn: 0.2844649\ttotal: 552ms\tremaining: 3.36s\n",
            "141:\tlearn: 0.2839482\ttotal: 557ms\tremaining: 3.36s\n",
            "142:\tlearn: 0.2838975\ttotal: 559ms\tremaining: 3.35s\n",
            "143:\tlearn: 0.2830723\ttotal: 564ms\tremaining: 3.35s\n",
            "144:\tlearn: 0.2829523\ttotal: 566ms\tremaining: 3.34s\n",
            "145:\tlearn: 0.2825406\ttotal: 570ms\tremaining: 3.33s\n",
            "146:\tlearn: 0.2822056\ttotal: 574ms\tremaining: 3.33s\n",
            "147:\tlearn: 0.2815681\ttotal: 578ms\tremaining: 3.33s\n",
            "148:\tlearn: 0.2811685\ttotal: 586ms\tremaining: 3.35s\n",
            "149:\tlearn: 0.2809015\ttotal: 589ms\tremaining: 3.34s\n",
            "150:\tlearn: 0.2802630\ttotal: 593ms\tremaining: 3.33s\n",
            "151:\tlearn: 0.2797650\ttotal: 598ms\tremaining: 3.33s\n",
            "152:\tlearn: 0.2793450\ttotal: 602ms\tremaining: 3.33s\n",
            "153:\tlearn: 0.2790808\ttotal: 606ms\tremaining: 3.33s\n",
            "154:\tlearn: 0.2787267\ttotal: 611ms\tremaining: 3.33s\n",
            "155:\tlearn: 0.2783981\ttotal: 613ms\tremaining: 3.32s\n",
            "156:\tlearn: 0.2779621\ttotal: 618ms\tremaining: 3.32s\n",
            "157:\tlearn: 0.2772771\ttotal: 622ms\tremaining: 3.31s\n",
            "158:\tlearn: 0.2766391\ttotal: 627ms\tremaining: 3.31s\n",
            "159:\tlearn: 0.2763210\ttotal: 631ms\tremaining: 3.31s\n",
            "160:\tlearn: 0.2759192\ttotal: 635ms\tremaining: 3.31s\n",
            "161:\tlearn: 0.2753111\ttotal: 640ms\tremaining: 3.31s\n",
            "162:\tlearn: 0.2749900\ttotal: 644ms\tremaining: 3.31s\n",
            "163:\tlearn: 0.2740841\ttotal: 648ms\tremaining: 3.3s\n",
            "164:\tlearn: 0.2736486\ttotal: 653ms\tremaining: 3.3s\n",
            "165:\tlearn: 0.2732858\ttotal: 657ms\tremaining: 3.3s\n",
            "166:\tlearn: 0.2727590\ttotal: 662ms\tremaining: 3.3s\n",
            "167:\tlearn: 0.2725756\ttotal: 665ms\tremaining: 3.29s\n",
            "168:\tlearn: 0.2723254\ttotal: 672ms\tremaining: 3.31s\n",
            "169:\tlearn: 0.2719840\ttotal: 682ms\tremaining: 3.33s\n",
            "170:\tlearn: 0.2713588\ttotal: 687ms\tremaining: 3.33s\n",
            "171:\tlearn: 0.2709597\ttotal: 691ms\tremaining: 3.33s\n",
            "172:\tlearn: 0.2705409\ttotal: 695ms\tremaining: 3.32s\n",
            "173:\tlearn: 0.2701604\ttotal: 700ms\tremaining: 3.32s\n",
            "174:\tlearn: 0.2701480\ttotal: 702ms\tremaining: 3.31s\n",
            "175:\tlearn: 0.2696319\ttotal: 706ms\tremaining: 3.31s\n",
            "176:\tlearn: 0.2692653\ttotal: 711ms\tremaining: 3.3s\n",
            "177:\tlearn: 0.2689244\ttotal: 715ms\tremaining: 3.3s\n",
            "178:\tlearn: 0.2685162\ttotal: 720ms\tremaining: 3.3s\n",
            "179:\tlearn: 0.2681745\ttotal: 724ms\tremaining: 3.3s\n",
            "180:\tlearn: 0.2677786\ttotal: 728ms\tremaining: 3.29s\n",
            "181:\tlearn: 0.2674916\ttotal: 733ms\tremaining: 3.29s\n",
            "182:\tlearn: 0.2672653\ttotal: 737ms\tremaining: 3.29s\n",
            "183:\tlearn: 0.2669908\ttotal: 742ms\tremaining: 3.29s\n",
            "184:\tlearn: 0.2667718\ttotal: 746ms\tremaining: 3.29s\n",
            "185:\tlearn: 0.2662134\ttotal: 750ms\tremaining: 3.28s\n",
            "186:\tlearn: 0.2660117\ttotal: 755ms\tremaining: 3.28s\n",
            "187:\tlearn: 0.2657510\ttotal: 760ms\tremaining: 3.28s\n",
            "188:\tlearn: 0.2653694\ttotal: 764ms\tremaining: 3.28s\n",
            "189:\tlearn: 0.2651225\ttotal: 769ms\tremaining: 3.28s\n",
            "190:\tlearn: 0.2648583\ttotal: 773ms\tremaining: 3.27s\n",
            "191:\tlearn: 0.2644288\ttotal: 778ms\tremaining: 3.27s\n",
            "192:\tlearn: 0.2640657\ttotal: 787ms\tremaining: 3.29s\n",
            "193:\tlearn: 0.2635966\ttotal: 796ms\tremaining: 3.31s\n",
            "194:\tlearn: 0.2632776\ttotal: 807ms\tremaining: 3.33s\n",
            "195:\tlearn: 0.2630600\ttotal: 813ms\tremaining: 3.33s\n",
            "196:\tlearn: 0.2627110\ttotal: 817ms\tremaining: 3.33s\n",
            "197:\tlearn: 0.2624521\ttotal: 820ms\tremaining: 3.32s\n",
            "198:\tlearn: 0.2624480\ttotal: 822ms\tremaining: 3.31s\n",
            "199:\tlearn: 0.2621200\ttotal: 826ms\tremaining: 3.3s\n",
            "200:\tlearn: 0.2618726\ttotal: 830ms\tremaining: 3.3s\n",
            "201:\tlearn: 0.2615817\ttotal: 835ms\tremaining: 3.3s\n",
            "202:\tlearn: 0.2614903\ttotal: 837ms\tremaining: 3.29s\n",
            "203:\tlearn: 0.2613981\ttotal: 841ms\tremaining: 3.28s\n",
            "204:\tlearn: 0.2610611\ttotal: 846ms\tremaining: 3.28s\n",
            "205:\tlearn: 0.2607647\ttotal: 851ms\tremaining: 3.28s\n",
            "206:\tlearn: 0.2603691\ttotal: 855ms\tremaining: 3.28s\n",
            "207:\tlearn: 0.2601674\ttotal: 860ms\tremaining: 3.27s\n",
            "208:\tlearn: 0.2598926\ttotal: 864ms\tremaining: 3.27s\n",
            "209:\tlearn: 0.2597889\ttotal: 868ms\tremaining: 3.27s\n",
            "210:\tlearn: 0.2595896\ttotal: 873ms\tremaining: 3.26s\n",
            "211:\tlearn: 0.2593278\ttotal: 877ms\tremaining: 3.26s\n",
            "212:\tlearn: 0.2590861\ttotal: 881ms\tremaining: 3.26s\n",
            "213:\tlearn: 0.2587380\ttotal: 886ms\tremaining: 3.25s\n",
            "214:\tlearn: 0.2584629\ttotal: 890ms\tremaining: 3.25s\n",
            "215:\tlearn: 0.2580542\ttotal: 895ms\tremaining: 3.25s\n",
            "216:\tlearn: 0.2578112\ttotal: 899ms\tremaining: 3.25s\n",
            "217:\tlearn: 0.2576354\ttotal: 904ms\tremaining: 3.24s\n",
            "218:\tlearn: 0.2573245\ttotal: 908ms\tremaining: 3.24s\n",
            "219:\tlearn: 0.2572766\ttotal: 911ms\tremaining: 3.23s\n",
            "220:\tlearn: 0.2570911\ttotal: 916ms\tremaining: 3.23s\n",
            "221:\tlearn: 0.2568301\ttotal: 920ms\tremaining: 3.23s\n",
            "222:\tlearn: 0.2566517\ttotal: 925ms\tremaining: 3.22s\n",
            "223:\tlearn: 0.2562965\ttotal: 929ms\tremaining: 3.22s\n",
            "224:\tlearn: 0.2559620\ttotal: 934ms\tremaining: 3.22s\n",
            "225:\tlearn: 0.2556306\ttotal: 939ms\tremaining: 3.21s\n",
            "226:\tlearn: 0.2553484\ttotal: 943ms\tremaining: 3.21s\n",
            "227:\tlearn: 0.2549324\ttotal: 948ms\tremaining: 3.21s\n",
            "228:\tlearn: 0.2545878\ttotal: 953ms\tremaining: 3.21s\n",
            "229:\tlearn: 0.2545663\ttotal: 955ms\tremaining: 3.2s\n",
            "230:\tlearn: 0.2543471\ttotal: 960ms\tremaining: 3.19s\n",
            "231:\tlearn: 0.2540997\ttotal: 964ms\tremaining: 3.19s\n",
            "232:\tlearn: 0.2539355\ttotal: 968ms\tremaining: 3.19s\n",
            "233:\tlearn: 0.2535715\ttotal: 973ms\tremaining: 3.18s\n",
            "234:\tlearn: 0.2533908\ttotal: 980ms\tremaining: 3.19s\n",
            "235:\tlearn: 0.2531266\ttotal: 985ms\tremaining: 3.19s\n",
            "236:\tlearn: 0.2530886\ttotal: 988ms\tremaining: 3.18s\n",
            "237:\tlearn: 0.2528087\ttotal: 992ms\tremaining: 3.18s\n",
            "238:\tlearn: 0.2524539\ttotal: 997ms\tremaining: 3.17s\n",
            "239:\tlearn: 0.2522991\ttotal: 1s\tremaining: 3.17s\n",
            "240:\tlearn: 0.2517994\ttotal: 1.01s\tremaining: 3.17s\n",
            "241:\tlearn: 0.2516204\ttotal: 1.01s\tremaining: 3.17s\n",
            "242:\tlearn: 0.2514046\ttotal: 1.01s\tremaining: 3.16s\n",
            "243:\tlearn: 0.2512524\ttotal: 1.02s\tremaining: 3.16s\n",
            "244:\tlearn: 0.2511862\ttotal: 1.02s\tremaining: 3.15s\n",
            "245:\tlearn: 0.2509182\ttotal: 1.03s\tremaining: 3.15s\n",
            "246:\tlearn: 0.2508022\ttotal: 1.03s\tremaining: 3.14s\n",
            "247:\tlearn: 0.2506932\ttotal: 1.04s\tremaining: 3.14s\n",
            "248:\tlearn: 0.2504345\ttotal: 1.04s\tremaining: 3.14s\n",
            "249:\tlearn: 0.2501690\ttotal: 1.04s\tremaining: 3.13s\n",
            "250:\tlearn: 0.2499487\ttotal: 1.05s\tremaining: 3.13s\n",
            "251:\tlearn: 0.2496815\ttotal: 1.06s\tremaining: 3.14s\n",
            "252:\tlearn: 0.2496316\ttotal: 1.06s\tremaining: 3.13s\n",
            "253:\tlearn: 0.2494791\ttotal: 1.06s\tremaining: 3.12s\n",
            "254:\tlearn: 0.2492157\ttotal: 1.07s\tremaining: 3.12s\n",
            "255:\tlearn: 0.2489035\ttotal: 1.07s\tremaining: 3.12s\n",
            "256:\tlearn: 0.2488521\ttotal: 1.08s\tremaining: 3.11s\n",
            "257:\tlearn: 0.2486174\ttotal: 1.08s\tremaining: 3.11s\n",
            "258:\tlearn: 0.2485430\ttotal: 1.08s\tremaining: 3.1s\n",
            "259:\tlearn: 0.2483250\ttotal: 1.09s\tremaining: 3.1s\n",
            "260:\tlearn: 0.2482256\ttotal: 1.09s\tremaining: 3.1s\n",
            "261:\tlearn: 0.2480605\ttotal: 1.1s\tremaining: 3.09s\n",
            "262:\tlearn: 0.2478490\ttotal: 1.1s\tremaining: 3.09s\n",
            "263:\tlearn: 0.2475752\ttotal: 1.11s\tremaining: 3.09s\n",
            "264:\tlearn: 0.2473490\ttotal: 1.11s\tremaining: 3.08s\n",
            "265:\tlearn: 0.2471928\ttotal: 1.11s\tremaining: 3.08s\n",
            "266:\tlearn: 0.2469751\ttotal: 1.12s\tremaining: 3.07s\n",
            "267:\tlearn: 0.2468239\ttotal: 1.12s\tremaining: 3.07s\n",
            "268:\tlearn: 0.2467399\ttotal: 1.13s\tremaining: 3.06s\n",
            "269:\tlearn: 0.2464537\ttotal: 1.13s\tremaining: 3.06s\n",
            "270:\tlearn: 0.2460829\ttotal: 1.14s\tremaining: 3.07s\n",
            "271:\tlearn: 0.2459363\ttotal: 1.15s\tremaining: 3.07s\n",
            "272:\tlearn: 0.2455727\ttotal: 1.15s\tremaining: 3.06s\n",
            "273:\tlearn: 0.2453779\ttotal: 1.16s\tremaining: 3.06s\n",
            "274:\tlearn: 0.2453711\ttotal: 1.16s\tremaining: 3.05s\n",
            "275:\tlearn: 0.2451586\ttotal: 1.16s\tremaining: 3.05s\n",
            "276:\tlearn: 0.2449031\ttotal: 1.17s\tremaining: 3.05s\n",
            "277:\tlearn: 0.2447048\ttotal: 1.17s\tremaining: 3.05s\n",
            "278:\tlearn: 0.2444854\ttotal: 1.18s\tremaining: 3.05s\n",
            "279:\tlearn: 0.2440693\ttotal: 1.19s\tremaining: 3.05s\n",
            "280:\tlearn: 0.2440349\ttotal: 1.19s\tremaining: 3.04s\n",
            "281:\tlearn: 0.2438526\ttotal: 1.19s\tremaining: 3.04s\n",
            "282:\tlearn: 0.2435423\ttotal: 1.2s\tremaining: 3.04s\n",
            "283:\tlearn: 0.2433269\ttotal: 1.2s\tremaining: 3.03s\n",
            "284:\tlearn: 0.2431894\ttotal: 1.21s\tremaining: 3.03s\n",
            "285:\tlearn: 0.2429056\ttotal: 1.21s\tremaining: 3.03s\n",
            "286:\tlearn: 0.2427105\ttotal: 1.22s\tremaining: 3.02s\n",
            "287:\tlearn: 0.2424048\ttotal: 1.22s\tremaining: 3.02s\n",
            "288:\tlearn: 0.2421358\ttotal: 1.23s\tremaining: 3.02s\n",
            "289:\tlearn: 0.2419297\ttotal: 1.23s\tremaining: 3.01s\n",
            "290:\tlearn: 0.2417585\ttotal: 1.24s\tremaining: 3.01s\n",
            "291:\tlearn: 0.2416725\ttotal: 1.24s\tremaining: 3s\n",
            "292:\tlearn: 0.2413236\ttotal: 1.24s\tremaining: 3s\n",
            "293:\tlearn: 0.2411596\ttotal: 1.25s\tremaining: 2.99s\n",
            "294:\tlearn: 0.2408865\ttotal: 1.25s\tremaining: 2.99s\n",
            "295:\tlearn: 0.2407541\ttotal: 1.26s\tremaining: 2.99s\n",
            "296:\tlearn: 0.2405994\ttotal: 1.26s\tremaining: 2.98s\n",
            "297:\tlearn: 0.2404555\ttotal: 1.26s\tremaining: 2.98s\n",
            "298:\tlearn: 0.2403172\ttotal: 1.27s\tremaining: 2.98s\n",
            "299:\tlearn: 0.2400222\ttotal: 1.27s\tremaining: 2.97s\n",
            "300:\tlearn: 0.2399534\ttotal: 1.28s\tremaining: 2.97s\n",
            "301:\tlearn: 0.2398219\ttotal: 1.28s\tremaining: 2.97s\n",
            "302:\tlearn: 0.2395508\ttotal: 1.29s\tremaining: 2.96s\n",
            "303:\tlearn: 0.2391575\ttotal: 1.29s\tremaining: 2.96s\n",
            "304:\tlearn: 0.2388715\ttotal: 1.3s\tremaining: 2.95s\n",
            "305:\tlearn: 0.2387666\ttotal: 1.3s\tremaining: 2.95s\n",
            "306:\tlearn: 0.2386134\ttotal: 1.31s\tremaining: 2.95s\n",
            "307:\tlearn: 0.2384334\ttotal: 1.31s\tremaining: 2.94s\n",
            "308:\tlearn: 0.2384333\ttotal: 1.31s\tremaining: 2.93s\n",
            "309:\tlearn: 0.2382243\ttotal: 1.32s\tremaining: 2.94s\n",
            "310:\tlearn: 0.2381304\ttotal: 1.33s\tremaining: 2.94s\n",
            "311:\tlearn: 0.2381042\ttotal: 1.33s\tremaining: 2.94s\n",
            "312:\tlearn: 0.2380137\ttotal: 1.34s\tremaining: 2.94s\n",
            "313:\tlearn: 0.2380135\ttotal: 1.34s\tremaining: 2.93s\n",
            "314:\tlearn: 0.2379888\ttotal: 1.34s\tremaining: 2.93s\n",
            "315:\tlearn: 0.2379157\ttotal: 1.35s\tremaining: 2.92s\n",
            "316:\tlearn: 0.2378834\ttotal: 1.35s\tremaining: 2.92s\n",
            "317:\tlearn: 0.2375355\ttotal: 1.36s\tremaining: 2.91s\n",
            "318:\tlearn: 0.2373411\ttotal: 1.36s\tremaining: 2.91s\n",
            "319:\tlearn: 0.2372791\ttotal: 1.37s\tremaining: 2.91s\n",
            "320:\tlearn: 0.2370230\ttotal: 1.37s\tremaining: 2.9s\n",
            "321:\tlearn: 0.2370228\ttotal: 1.37s\tremaining: 2.89s\n",
            "322:\tlearn: 0.2369590\ttotal: 1.38s\tremaining: 2.89s\n",
            "323:\tlearn: 0.2367006\ttotal: 1.38s\tremaining: 2.88s\n",
            "324:\tlearn: 0.2367003\ttotal: 1.38s\tremaining: 2.88s\n",
            "325:\tlearn: 0.2364922\ttotal: 1.39s\tremaining: 2.87s\n",
            "326:\tlearn: 0.2363526\ttotal: 1.39s\tremaining: 2.87s\n",
            "327:\tlearn: 0.2362860\ttotal: 1.4s\tremaining: 2.86s\n",
            "328:\tlearn: 0.2360850\ttotal: 1.4s\tremaining: 2.85s\n",
            "329:\tlearn: 0.2359015\ttotal: 1.4s\tremaining: 2.85s\n",
            "330:\tlearn: 0.2356326\ttotal: 1.41s\tremaining: 2.85s\n",
            "331:\tlearn: 0.2352891\ttotal: 1.41s\tremaining: 2.84s\n",
            "332:\tlearn: 0.2350109\ttotal: 1.42s\tremaining: 2.84s\n",
            "333:\tlearn: 0.2348111\ttotal: 1.42s\tremaining: 2.83s\n",
            "334:\tlearn: 0.2347141\ttotal: 1.43s\tremaining: 2.83s\n",
            "335:\tlearn: 0.2343155\ttotal: 1.43s\tremaining: 2.83s\n",
            "336:\tlearn: 0.2340872\ttotal: 1.44s\tremaining: 2.82s\n",
            "337:\tlearn: 0.2339541\ttotal: 1.44s\tremaining: 2.82s\n",
            "338:\tlearn: 0.2337671\ttotal: 1.44s\tremaining: 2.82s\n",
            "339:\tlearn: 0.2337494\ttotal: 1.45s\tremaining: 2.81s\n",
            "340:\tlearn: 0.2337085\ttotal: 1.45s\tremaining: 2.8s\n",
            "341:\tlearn: 0.2335280\ttotal: 1.46s\tremaining: 2.8s\n",
            "342:\tlearn: 0.2334576\ttotal: 1.46s\tremaining: 2.8s\n",
            "343:\tlearn: 0.2332422\ttotal: 1.46s\tremaining: 2.79s\n",
            "344:\tlearn: 0.2331204\ttotal: 1.47s\tremaining: 2.79s\n",
            "345:\tlearn: 0.2328152\ttotal: 1.47s\tremaining: 2.79s\n",
            "346:\tlearn: 0.2327940\ttotal: 1.48s\tremaining: 2.78s\n",
            "347:\tlearn: 0.2325352\ttotal: 1.48s\tremaining: 2.78s\n",
            "348:\tlearn: 0.2323869\ttotal: 1.49s\tremaining: 2.77s\n",
            "349:\tlearn: 0.2323866\ttotal: 1.49s\tremaining: 2.77s\n",
            "350:\tlearn: 0.2322592\ttotal: 1.49s\tremaining: 2.76s\n",
            "351:\tlearn: 0.2320464\ttotal: 1.5s\tremaining: 2.76s\n",
            "352:\tlearn: 0.2318744\ttotal: 1.5s\tremaining: 2.76s\n",
            "353:\tlearn: 0.2317275\ttotal: 1.51s\tremaining: 2.75s\n",
            "354:\tlearn: 0.2315942\ttotal: 1.51s\tremaining: 2.75s\n",
            "355:\tlearn: 0.2312202\ttotal: 1.52s\tremaining: 2.75s\n",
            "356:\tlearn: 0.2311335\ttotal: 1.52s\tremaining: 2.74s\n",
            "357:\tlearn: 0.2310561\ttotal: 1.53s\tremaining: 2.74s\n",
            "358:\tlearn: 0.2309601\ttotal: 1.53s\tremaining: 2.73s\n",
            "359:\tlearn: 0.2307492\ttotal: 1.53s\tremaining: 2.73s\n",
            "360:\tlearn: 0.2305476\ttotal: 1.54s\tremaining: 2.73s\n",
            "361:\tlearn: 0.2303747\ttotal: 1.54s\tremaining: 2.72s\n",
            "362:\tlearn: 0.2302978\ttotal: 1.55s\tremaining: 2.72s\n",
            "363:\tlearn: 0.2302605\ttotal: 1.55s\tremaining: 2.71s\n",
            "364:\tlearn: 0.2300872\ttotal: 1.56s\tremaining: 2.71s\n",
            "365:\tlearn: 0.2297870\ttotal: 1.56s\tremaining: 2.71s\n",
            "366:\tlearn: 0.2296195\ttotal: 1.57s\tremaining: 2.71s\n",
            "367:\tlearn: 0.2295409\ttotal: 1.57s\tremaining: 2.7s\n",
            "368:\tlearn: 0.2293582\ttotal: 1.58s\tremaining: 2.7s\n",
            "369:\tlearn: 0.2293185\ttotal: 1.58s\tremaining: 2.69s\n",
            "370:\tlearn: 0.2291084\ttotal: 1.58s\tremaining: 2.69s\n",
            "371:\tlearn: 0.2290244\ttotal: 1.59s\tremaining: 2.68s\n",
            "372:\tlearn: 0.2288165\ttotal: 1.59s\tremaining: 2.68s\n",
            "373:\tlearn: 0.2285512\ttotal: 1.6s\tremaining: 2.68s\n",
            "374:\tlearn: 0.2283130\ttotal: 1.6s\tremaining: 2.67s\n",
            "375:\tlearn: 0.2282268\ttotal: 1.61s\tremaining: 2.67s\n",
            "376:\tlearn: 0.2280942\ttotal: 1.61s\tremaining: 2.66s\n",
            "377:\tlearn: 0.2280322\ttotal: 1.61s\tremaining: 2.66s\n",
            "378:\tlearn: 0.2279618\ttotal: 1.62s\tremaining: 2.65s\n",
            "379:\tlearn: 0.2277562\ttotal: 1.62s\tremaining: 2.65s\n",
            "380:\tlearn: 0.2277557\ttotal: 1.63s\tremaining: 2.64s\n",
            "381:\tlearn: 0.2277235\ttotal: 1.63s\tremaining: 2.64s\n",
            "382:\tlearn: 0.2275629\ttotal: 1.64s\tremaining: 2.64s\n",
            "383:\tlearn: 0.2272585\ttotal: 1.64s\tremaining: 2.64s\n",
            "384:\tlearn: 0.2271032\ttotal: 1.65s\tremaining: 2.63s\n",
            "385:\tlearn: 0.2268839\ttotal: 1.66s\tremaining: 2.63s\n",
            "386:\tlearn: 0.2266251\ttotal: 1.66s\tremaining: 2.63s\n",
            "387:\tlearn: 0.2264796\ttotal: 1.67s\tremaining: 2.63s\n",
            "388:\tlearn: 0.2263101\ttotal: 1.68s\tremaining: 2.63s\n",
            "389:\tlearn: 0.2261604\ttotal: 1.68s\tremaining: 2.63s\n",
            "390:\tlearn: 0.2261599\ttotal: 1.69s\tremaining: 2.63s\n",
            "391:\tlearn: 0.2261189\ttotal: 1.69s\tremaining: 2.62s\n",
            "392:\tlearn: 0.2259564\ttotal: 1.69s\tremaining: 2.62s\n",
            "393:\tlearn: 0.2257678\ttotal: 1.7s\tremaining: 2.61s\n",
            "394:\tlearn: 0.2257043\ttotal: 1.7s\tremaining: 2.61s\n",
            "395:\tlearn: 0.2254781\ttotal: 1.71s\tremaining: 2.6s\n",
            "396:\tlearn: 0.2253841\ttotal: 1.71s\tremaining: 2.6s\n",
            "397:\tlearn: 0.2253523\ttotal: 1.72s\tremaining: 2.59s\n",
            "398:\tlearn: 0.2253036\ttotal: 1.72s\tremaining: 2.59s\n",
            "399:\tlearn: 0.2252935\ttotal: 1.72s\tremaining: 2.58s\n",
            "400:\tlearn: 0.2252516\ttotal: 1.73s\tremaining: 2.58s\n",
            "401:\tlearn: 0.2250571\ttotal: 1.73s\tremaining: 2.57s\n",
            "402:\tlearn: 0.2249227\ttotal: 1.73s\tremaining: 2.57s\n",
            "403:\tlearn: 0.2247924\ttotal: 1.74s\tremaining: 2.57s\n",
            "404:\tlearn: 0.2246979\ttotal: 1.74s\tremaining: 2.56s\n",
            "405:\tlearn: 0.2244231\ttotal: 1.75s\tremaining: 2.56s\n",
            "406:\tlearn: 0.2241351\ttotal: 1.75s\tremaining: 2.55s\n",
            "407:\tlearn: 0.2238457\ttotal: 1.76s\tremaining: 2.56s\n",
            "408:\tlearn: 0.2236215\ttotal: 1.76s\tremaining: 2.55s\n",
            "409:\tlearn: 0.2234937\ttotal: 1.77s\tremaining: 2.55s\n",
            "410:\tlearn: 0.2233718\ttotal: 1.77s\tremaining: 2.54s\n",
            "411:\tlearn: 0.2233080\ttotal: 1.78s\tremaining: 2.54s\n",
            "412:\tlearn: 0.2232553\ttotal: 1.78s\tremaining: 2.53s\n",
            "413:\tlearn: 0.2231347\ttotal: 1.79s\tremaining: 2.53s\n",
            "414:\tlearn: 0.2229117\ttotal: 1.79s\tremaining: 2.52s\n",
            "415:\tlearn: 0.2226081\ttotal: 1.8s\tremaining: 2.52s\n",
            "416:\tlearn: 0.2223954\ttotal: 1.8s\tremaining: 2.52s\n",
            "417:\tlearn: 0.2222932\ttotal: 1.8s\tremaining: 2.51s\n",
            "418:\tlearn: 0.2221686\ttotal: 1.81s\tremaining: 2.51s\n",
            "419:\tlearn: 0.2220493\ttotal: 1.81s\tremaining: 2.5s\n",
            "420:\tlearn: 0.2220054\ttotal: 1.82s\tremaining: 2.5s\n",
            "421:\tlearn: 0.2218089\ttotal: 1.82s\tremaining: 2.5s\n",
            "422:\tlearn: 0.2215667\ttotal: 1.83s\tremaining: 2.49s\n",
            "423:\tlearn: 0.2214387\ttotal: 1.83s\tremaining: 2.49s\n",
            "424:\tlearn: 0.2213716\ttotal: 1.84s\tremaining: 2.48s\n",
            "425:\tlearn: 0.2211753\ttotal: 1.84s\tremaining: 2.48s\n",
            "426:\tlearn: 0.2210294\ttotal: 1.84s\tremaining: 2.48s\n",
            "427:\tlearn: 0.2208095\ttotal: 1.85s\tremaining: 2.47s\n",
            "428:\tlearn: 0.2206830\ttotal: 1.85s\tremaining: 2.47s\n",
            "429:\tlearn: 0.2206301\ttotal: 1.86s\tremaining: 2.46s\n",
            "430:\tlearn: 0.2203870\ttotal: 1.86s\tremaining: 2.46s\n",
            "431:\tlearn: 0.2201547\ttotal: 1.87s\tremaining: 2.46s\n",
            "432:\tlearn: 0.2201522\ttotal: 1.87s\tremaining: 2.45s\n",
            "433:\tlearn: 0.2201014\ttotal: 1.87s\tremaining: 2.44s\n",
            "434:\tlearn: 0.2199616\ttotal: 1.88s\tremaining: 2.44s\n",
            "435:\tlearn: 0.2197595\ttotal: 1.88s\tremaining: 2.43s\n",
            "436:\tlearn: 0.2195887\ttotal: 1.89s\tremaining: 2.43s\n",
            "437:\tlearn: 0.2193268\ttotal: 1.89s\tremaining: 2.42s\n",
            "438:\tlearn: 0.2192299\ttotal: 1.9s\tremaining: 2.42s\n",
            "439:\tlearn: 0.2191865\ttotal: 1.9s\tremaining: 2.42s\n",
            "440:\tlearn: 0.2189537\ttotal: 1.9s\tremaining: 2.41s\n",
            "441:\tlearn: 0.2187162\ttotal: 1.91s\tremaining: 2.41s\n",
            "442:\tlearn: 0.2185969\ttotal: 1.91s\tremaining: 2.4s\n",
            "443:\tlearn: 0.2184410\ttotal: 1.92s\tremaining: 2.4s\n",
            "444:\tlearn: 0.2184406\ttotal: 1.92s\tremaining: 2.39s\n",
            "445:\tlearn: 0.2182296\ttotal: 1.92s\tremaining: 2.39s\n",
            "446:\tlearn: 0.2182286\ttotal: 1.93s\tremaining: 2.38s\n",
            "447:\tlearn: 0.2180802\ttotal: 1.93s\tremaining: 2.38s\n",
            "448:\tlearn: 0.2179607\ttotal: 1.93s\tremaining: 2.37s\n",
            "449:\tlearn: 0.2179573\ttotal: 1.94s\tremaining: 2.37s\n",
            "450:\tlearn: 0.2178413\ttotal: 1.94s\tremaining: 2.36s\n",
            "451:\tlearn: 0.2176879\ttotal: 1.95s\tremaining: 2.36s\n",
            "452:\tlearn: 0.2176875\ttotal: 1.95s\tremaining: 2.35s\n",
            "453:\tlearn: 0.2176870\ttotal: 1.95s\tremaining: 2.35s\n",
            "454:\tlearn: 0.2175990\ttotal: 1.96s\tremaining: 2.35s\n",
            "455:\tlearn: 0.2174832\ttotal: 1.96s\tremaining: 2.34s\n",
            "456:\tlearn: 0.2173098\ttotal: 1.97s\tremaining: 2.34s\n",
            "457:\tlearn: 0.2171007\ttotal: 1.97s\tremaining: 2.33s\n",
            "458:\tlearn: 0.2170083\ttotal: 1.98s\tremaining: 2.33s\n",
            "459:\tlearn: 0.2170016\ttotal: 1.98s\tremaining: 2.33s\n",
            "460:\tlearn: 0.2169139\ttotal: 1.99s\tremaining: 2.32s\n",
            "461:\tlearn: 0.2169135\ttotal: 1.99s\tremaining: 2.31s\n",
            "462:\tlearn: 0.2169132\ttotal: 1.99s\tremaining: 2.31s\n",
            "463:\tlearn: 0.2167182\ttotal: 2s\tremaining: 2.31s\n",
            "464:\tlearn: 0.2165783\ttotal: 2s\tremaining: 2.3s\n",
            "465:\tlearn: 0.2165779\ttotal: 2s\tremaining: 2.29s\n",
            "466:\tlearn: 0.2165492\ttotal: 2.01s\tremaining: 2.29s\n",
            "467:\tlearn: 0.2164680\ttotal: 2.01s\tremaining: 2.29s\n",
            "468:\tlearn: 0.2163734\ttotal: 2.02s\tremaining: 2.28s\n",
            "469:\tlearn: 0.2162896\ttotal: 2.02s\tremaining: 2.28s\n",
            "470:\tlearn: 0.2159874\ttotal: 2.02s\tremaining: 2.27s\n",
            "471:\tlearn: 0.2159144\ttotal: 2.03s\tremaining: 2.27s\n",
            "472:\tlearn: 0.2158758\ttotal: 2.03s\tremaining: 2.27s\n",
            "473:\tlearn: 0.2157667\ttotal: 2.04s\tremaining: 2.26s\n",
            "474:\tlearn: 0.2155563\ttotal: 2.04s\tremaining: 2.26s\n",
            "475:\tlearn: 0.2153922\ttotal: 2.05s\tremaining: 2.25s\n",
            "476:\tlearn: 0.2150938\ttotal: 2.05s\tremaining: 2.25s\n",
            "477:\tlearn: 0.2148700\ttotal: 2.06s\tremaining: 2.25s\n",
            "478:\tlearn: 0.2147889\ttotal: 2.06s\tremaining: 2.24s\n",
            "479:\tlearn: 0.2146139\ttotal: 2.06s\tremaining: 2.24s\n",
            "480:\tlearn: 0.2145710\ttotal: 2.07s\tremaining: 2.23s\n",
            "481:\tlearn: 0.2145133\ttotal: 2.07s\tremaining: 2.23s\n",
            "482:\tlearn: 0.2144819\ttotal: 2.08s\tremaining: 2.22s\n",
            "483:\tlearn: 0.2144282\ttotal: 2.08s\tremaining: 2.22s\n",
            "484:\tlearn: 0.2143291\ttotal: 2.09s\tremaining: 2.22s\n",
            "485:\tlearn: 0.2141915\ttotal: 2.09s\tremaining: 2.21s\n",
            "486:\tlearn: 0.2139874\ttotal: 2.1s\tremaining: 2.21s\n",
            "487:\tlearn: 0.2137611\ttotal: 2.1s\tremaining: 2.2s\n",
            "488:\tlearn: 0.2135896\ttotal: 2.1s\tremaining: 2.2s\n",
            "489:\tlearn: 0.2134872\ttotal: 2.11s\tremaining: 2.2s\n",
            "490:\tlearn: 0.2133859\ttotal: 2.12s\tremaining: 2.19s\n",
            "491:\tlearn: 0.2133077\ttotal: 2.12s\tremaining: 2.19s\n",
            "492:\tlearn: 0.2132340\ttotal: 2.12s\tremaining: 2.18s\n",
            "493:\tlearn: 0.2129918\ttotal: 2.13s\tremaining: 2.18s\n",
            "494:\tlearn: 0.2128454\ttotal: 2.13s\tremaining: 2.18s\n",
            "495:\tlearn: 0.2128213\ttotal: 2.14s\tremaining: 2.17s\n",
            "496:\tlearn: 0.2126620\ttotal: 2.14s\tremaining: 2.17s\n",
            "497:\tlearn: 0.2124219\ttotal: 2.14s\tremaining: 2.16s\n",
            "498:\tlearn: 0.2123420\ttotal: 2.15s\tremaining: 2.16s\n",
            "499:\tlearn: 0.2120134\ttotal: 2.16s\tremaining: 2.16s\n",
            "500:\tlearn: 0.2118265\ttotal: 2.16s\tremaining: 2.15s\n",
            "501:\tlearn: 0.2117242\ttotal: 2.17s\tremaining: 2.15s\n",
            "502:\tlearn: 0.2113246\ttotal: 2.17s\tremaining: 2.15s\n",
            "503:\tlearn: 0.2110930\ttotal: 2.18s\tremaining: 2.14s\n",
            "504:\tlearn: 0.2110354\ttotal: 2.18s\tremaining: 2.14s\n",
            "505:\tlearn: 0.2110066\ttotal: 2.19s\tremaining: 2.13s\n",
            "506:\tlearn: 0.2110063\ttotal: 2.19s\tremaining: 2.13s\n",
            "507:\tlearn: 0.2108163\ttotal: 2.19s\tremaining: 2.12s\n",
            "508:\tlearn: 0.2106428\ttotal: 2.2s\tremaining: 2.12s\n",
            "509:\tlearn: 0.2102853\ttotal: 2.2s\tremaining: 2.11s\n",
            "510:\tlearn: 0.2102744\ttotal: 2.21s\tremaining: 2.11s\n",
            "511:\tlearn: 0.2101429\ttotal: 2.21s\tremaining: 2.1s\n",
            "512:\tlearn: 0.2099054\ttotal: 2.21s\tremaining: 2.1s\n",
            "513:\tlearn: 0.2098439\ttotal: 2.22s\tremaining: 2.1s\n",
            "514:\tlearn: 0.2097590\ttotal: 2.22s\tremaining: 2.09s\n",
            "515:\tlearn: 0.2097272\ttotal: 2.23s\tremaining: 2.09s\n",
            "516:\tlearn: 0.2095554\ttotal: 2.23s\tremaining: 2.08s\n",
            "517:\tlearn: 0.2095301\ttotal: 2.23s\tremaining: 2.08s\n",
            "518:\tlearn: 0.2094537\ttotal: 2.24s\tremaining: 2.08s\n",
            "519:\tlearn: 0.2093965\ttotal: 2.24s\tremaining: 2.07s\n",
            "520:\tlearn: 0.2092726\ttotal: 2.25s\tremaining: 2.07s\n",
            "521:\tlearn: 0.2090994\ttotal: 2.25s\tremaining: 2.06s\n",
            "522:\tlearn: 0.2089580\ttotal: 2.26s\tremaining: 2.06s\n",
            "523:\tlearn: 0.2087994\ttotal: 2.26s\tremaining: 2.05s\n",
            "524:\tlearn: 0.2085902\ttotal: 2.27s\tremaining: 2.05s\n",
            "525:\tlearn: 0.2084547\ttotal: 2.27s\tremaining: 2.05s\n",
            "526:\tlearn: 0.2083387\ttotal: 2.28s\tremaining: 2.05s\n",
            "527:\tlearn: 0.2082875\ttotal: 2.29s\tremaining: 2.04s\n",
            "528:\tlearn: 0.2082871\ttotal: 2.29s\tremaining: 2.04s\n",
            "529:\tlearn: 0.2082001\ttotal: 2.3s\tremaining: 2.04s\n",
            "530:\tlearn: 0.2080553\ttotal: 2.31s\tremaining: 2.04s\n",
            "531:\tlearn: 0.2079191\ttotal: 2.31s\tremaining: 2.04s\n",
            "532:\tlearn: 0.2077399\ttotal: 2.32s\tremaining: 2.03s\n",
            "533:\tlearn: 0.2076730\ttotal: 2.32s\tremaining: 2.03s\n",
            "534:\tlearn: 0.2075036\ttotal: 2.33s\tremaining: 2.02s\n",
            "535:\tlearn: 0.2072592\ttotal: 2.33s\tremaining: 2.02s\n",
            "536:\tlearn: 0.2070246\ttotal: 2.34s\tremaining: 2.02s\n",
            "537:\tlearn: 0.2068386\ttotal: 2.34s\tremaining: 2.01s\n",
            "538:\tlearn: 0.2066838\ttotal: 2.35s\tremaining: 2.01s\n",
            "539:\tlearn: 0.2065571\ttotal: 2.35s\tremaining: 2s\n",
            "540:\tlearn: 0.2064506\ttotal: 2.36s\tremaining: 2s\n",
            "541:\tlearn: 0.2062828\ttotal: 2.36s\tremaining: 2s\n",
            "542:\tlearn: 0.2060311\ttotal: 2.37s\tremaining: 1.99s\n",
            "543:\tlearn: 0.2058809\ttotal: 2.37s\tremaining: 1.99s\n",
            "544:\tlearn: 0.2056512\ttotal: 2.38s\tremaining: 1.98s\n",
            "545:\tlearn: 0.2055464\ttotal: 2.38s\tremaining: 1.98s\n",
            "546:\tlearn: 0.2053064\ttotal: 2.39s\tremaining: 1.98s\n",
            "547:\tlearn: 0.2051705\ttotal: 2.39s\tremaining: 1.97s\n",
            "548:\tlearn: 0.2050656\ttotal: 2.4s\tremaining: 1.97s\n",
            "549:\tlearn: 0.2049970\ttotal: 2.4s\tremaining: 1.96s\n",
            "550:\tlearn: 0.2047456\ttotal: 2.4s\tremaining: 1.96s\n",
            "551:\tlearn: 0.2045675\ttotal: 2.41s\tremaining: 1.95s\n",
            "552:\tlearn: 0.2044234\ttotal: 2.41s\tremaining: 1.95s\n",
            "553:\tlearn: 0.2040590\ttotal: 2.42s\tremaining: 1.95s\n",
            "554:\tlearn: 0.2038912\ttotal: 2.42s\tremaining: 1.94s\n",
            "555:\tlearn: 0.2035980\ttotal: 2.43s\tremaining: 1.94s\n",
            "556:\tlearn: 0.2033451\ttotal: 2.43s\tremaining: 1.93s\n",
            "557:\tlearn: 0.2031897\ttotal: 2.44s\tremaining: 1.93s\n",
            "558:\tlearn: 0.2030921\ttotal: 2.44s\tremaining: 1.93s\n",
            "559:\tlearn: 0.2028941\ttotal: 2.44s\tremaining: 1.92s\n",
            "560:\tlearn: 0.2027515\ttotal: 2.45s\tremaining: 1.92s\n",
            "561:\tlearn: 0.2026142\ttotal: 2.46s\tremaining: 1.91s\n",
            "562:\tlearn: 0.2024270\ttotal: 2.46s\tremaining: 1.91s\n",
            "563:\tlearn: 0.2023750\ttotal: 2.46s\tremaining: 1.9s\n",
            "564:\tlearn: 0.2021982\ttotal: 2.47s\tremaining: 1.9s\n",
            "565:\tlearn: 0.2020502\ttotal: 2.47s\tremaining: 1.9s\n",
            "566:\tlearn: 0.2019849\ttotal: 2.48s\tremaining: 1.89s\n",
            "567:\tlearn: 0.2018285\ttotal: 2.48s\tremaining: 1.89s\n",
            "568:\tlearn: 0.2017286\ttotal: 2.49s\tremaining: 1.88s\n",
            "569:\tlearn: 0.2016159\ttotal: 2.49s\tremaining: 1.88s\n",
            "570:\tlearn: 0.2016155\ttotal: 2.49s\tremaining: 1.87s\n",
            "571:\tlearn: 0.2015857\ttotal: 2.5s\tremaining: 1.87s\n",
            "572:\tlearn: 0.2014416\ttotal: 2.5s\tremaining: 1.86s\n",
            "573:\tlearn: 0.2013423\ttotal: 2.5s\tremaining: 1.86s\n",
            "574:\tlearn: 0.2012637\ttotal: 2.51s\tremaining: 1.85s\n",
            "575:\tlearn: 0.2011781\ttotal: 2.51s\tremaining: 1.85s\n",
            "576:\tlearn: 0.2010204\ttotal: 2.52s\tremaining: 1.85s\n",
            "577:\tlearn: 0.2008359\ttotal: 2.52s\tremaining: 1.84s\n",
            "578:\tlearn: 0.2007328\ttotal: 2.53s\tremaining: 1.84s\n",
            "579:\tlearn: 0.2006751\ttotal: 2.53s\tremaining: 1.83s\n",
            "580:\tlearn: 0.2004975\ttotal: 2.54s\tremaining: 1.83s\n",
            "581:\tlearn: 0.2004345\ttotal: 2.55s\tremaining: 1.83s\n",
            "582:\tlearn: 0.2002781\ttotal: 2.56s\tremaining: 1.83s\n",
            "583:\tlearn: 0.2001298\ttotal: 2.56s\tremaining: 1.83s\n",
            "584:\tlearn: 0.2000244\ttotal: 2.57s\tremaining: 1.82s\n",
            "585:\tlearn: 0.1998708\ttotal: 2.57s\tremaining: 1.82s\n",
            "586:\tlearn: 0.1996302\ttotal: 2.58s\tremaining: 1.81s\n",
            "587:\tlearn: 0.1994723\ttotal: 2.58s\tremaining: 1.81s\n",
            "588:\tlearn: 0.1992623\ttotal: 2.59s\tremaining: 1.8s\n",
            "589:\tlearn: 0.1991615\ttotal: 2.59s\tremaining: 1.8s\n",
            "590:\tlearn: 0.1989512\ttotal: 2.59s\tremaining: 1.79s\n",
            "591:\tlearn: 0.1987720\ttotal: 2.6s\tremaining: 1.79s\n",
            "592:\tlearn: 0.1985141\ttotal: 2.6s\tremaining: 1.79s\n",
            "593:\tlearn: 0.1984945\ttotal: 2.61s\tremaining: 1.78s\n",
            "594:\tlearn: 0.1984581\ttotal: 2.61s\tremaining: 1.78s\n",
            "595:\tlearn: 0.1981990\ttotal: 2.62s\tremaining: 1.77s\n",
            "596:\tlearn: 0.1980535\ttotal: 2.62s\tremaining: 1.77s\n",
            "597:\tlearn: 0.1978679\ttotal: 2.63s\tremaining: 1.76s\n",
            "598:\tlearn: 0.1977933\ttotal: 2.63s\tremaining: 1.76s\n",
            "599:\tlearn: 0.1976482\ttotal: 2.63s\tremaining: 1.76s\n",
            "600:\tlearn: 0.1976271\ttotal: 2.64s\tremaining: 1.75s\n",
            "601:\tlearn: 0.1976166\ttotal: 2.64s\tremaining: 1.75s\n",
            "602:\tlearn: 0.1975177\ttotal: 2.65s\tremaining: 1.74s\n",
            "603:\tlearn: 0.1974998\ttotal: 2.65s\tremaining: 1.74s\n",
            "604:\tlearn: 0.1973867\ttotal: 2.65s\tremaining: 1.73s\n",
            "605:\tlearn: 0.1971805\ttotal: 2.66s\tremaining: 1.73s\n",
            "606:\tlearn: 0.1970494\ttotal: 2.66s\tremaining: 1.73s\n",
            "607:\tlearn: 0.1969507\ttotal: 2.67s\tremaining: 1.72s\n",
            "608:\tlearn: 0.1968783\ttotal: 2.67s\tremaining: 1.72s\n",
            "609:\tlearn: 0.1967894\ttotal: 2.68s\tremaining: 1.71s\n",
            "610:\tlearn: 0.1966295\ttotal: 2.68s\tremaining: 1.71s\n",
            "611:\tlearn: 0.1966077\ttotal: 2.69s\tremaining: 1.7s\n",
            "612:\tlearn: 0.1964059\ttotal: 2.69s\tremaining: 1.7s\n",
            "613:\tlearn: 0.1962919\ttotal: 2.69s\tremaining: 1.69s\n",
            "614:\tlearn: 0.1962446\ttotal: 2.7s\tremaining: 1.69s\n",
            "615:\tlearn: 0.1962254\ttotal: 2.7s\tremaining: 1.69s\n",
            "616:\tlearn: 0.1960448\ttotal: 2.71s\tremaining: 1.68s\n",
            "617:\tlearn: 0.1959038\ttotal: 2.71s\tremaining: 1.68s\n",
            "618:\tlearn: 0.1958868\ttotal: 2.72s\tremaining: 1.67s\n",
            "619:\tlearn: 0.1956459\ttotal: 2.72s\tremaining: 1.67s\n",
            "620:\tlearn: 0.1954714\ttotal: 2.73s\tremaining: 1.66s\n",
            "621:\tlearn: 0.1953294\ttotal: 2.73s\tremaining: 1.66s\n",
            "622:\tlearn: 0.1950053\ttotal: 2.73s\tremaining: 1.65s\n",
            "623:\tlearn: 0.1949259\ttotal: 2.74s\tremaining: 1.65s\n",
            "624:\tlearn: 0.1947600\ttotal: 2.74s\tremaining: 1.65s\n",
            "625:\tlearn: 0.1946656\ttotal: 2.75s\tremaining: 1.64s\n",
            "626:\tlearn: 0.1945105\ttotal: 2.76s\tremaining: 1.64s\n",
            "627:\tlearn: 0.1943625\ttotal: 2.76s\tremaining: 1.64s\n",
            "628:\tlearn: 0.1943126\ttotal: 2.77s\tremaining: 1.63s\n",
            "629:\tlearn: 0.1941591\ttotal: 2.77s\tremaining: 1.63s\n",
            "630:\tlearn: 0.1939187\ttotal: 2.78s\tremaining: 1.62s\n",
            "631:\tlearn: 0.1937670\ttotal: 2.78s\tremaining: 1.62s\n",
            "632:\tlearn: 0.1936621\ttotal: 2.79s\tremaining: 1.61s\n",
            "633:\tlearn: 0.1935225\ttotal: 2.79s\tremaining: 1.61s\n",
            "634:\tlearn: 0.1933613\ttotal: 2.79s\tremaining: 1.61s\n",
            "635:\tlearn: 0.1932717\ttotal: 2.8s\tremaining: 1.6s\n",
            "636:\tlearn: 0.1931172\ttotal: 2.8s\tremaining: 1.6s\n",
            "637:\tlearn: 0.1928970\ttotal: 2.81s\tremaining: 1.59s\n",
            "638:\tlearn: 0.1926812\ttotal: 2.81s\tremaining: 1.59s\n",
            "639:\tlearn: 0.1925764\ttotal: 2.82s\tremaining: 1.58s\n",
            "640:\tlearn: 0.1923787\ttotal: 2.82s\tremaining: 1.58s\n",
            "641:\tlearn: 0.1922621\ttotal: 2.83s\tremaining: 1.58s\n",
            "642:\tlearn: 0.1919757\ttotal: 2.83s\tremaining: 1.57s\n",
            "643:\tlearn: 0.1916990\ttotal: 2.84s\tremaining: 1.57s\n",
            "644:\tlearn: 0.1914805\ttotal: 2.85s\tremaining: 1.57s\n",
            "645:\tlearn: 0.1913783\ttotal: 2.85s\tremaining: 1.56s\n",
            "646:\tlearn: 0.1912582\ttotal: 2.86s\tremaining: 1.56s\n",
            "647:\tlearn: 0.1910771\ttotal: 2.87s\tremaining: 1.56s\n",
            "648:\tlearn: 0.1908186\ttotal: 2.87s\tremaining: 1.55s\n",
            "649:\tlearn: 0.1906732\ttotal: 2.87s\tremaining: 1.55s\n",
            "650:\tlearn: 0.1904075\ttotal: 2.88s\tremaining: 1.54s\n",
            "651:\tlearn: 0.1902216\ttotal: 2.88s\tremaining: 1.54s\n",
            "652:\tlearn: 0.1901132\ttotal: 2.89s\tremaining: 1.53s\n",
            "653:\tlearn: 0.1899419\ttotal: 2.89s\tremaining: 1.53s\n",
            "654:\tlearn: 0.1897961\ttotal: 2.9s\tremaining: 1.53s\n",
            "655:\tlearn: 0.1896797\ttotal: 2.9s\tremaining: 1.52s\n",
            "656:\tlearn: 0.1895684\ttotal: 2.91s\tremaining: 1.52s\n",
            "657:\tlearn: 0.1894178\ttotal: 2.91s\tremaining: 1.51s\n",
            "658:\tlearn: 0.1892772\ttotal: 2.92s\tremaining: 1.51s\n",
            "659:\tlearn: 0.1891458\ttotal: 2.92s\tremaining: 1.5s\n",
            "660:\tlearn: 0.1890112\ttotal: 2.92s\tremaining: 1.5s\n",
            "661:\tlearn: 0.1887801\ttotal: 2.93s\tremaining: 1.5s\n",
            "662:\tlearn: 0.1886756\ttotal: 2.93s\tremaining: 1.49s\n",
            "663:\tlearn: 0.1885818\ttotal: 2.94s\tremaining: 1.49s\n",
            "664:\tlearn: 0.1884430\ttotal: 2.94s\tremaining: 1.48s\n",
            "665:\tlearn: 0.1883567\ttotal: 2.95s\tremaining: 1.48s\n",
            "666:\tlearn: 0.1880441\ttotal: 2.95s\tremaining: 1.47s\n",
            "667:\tlearn: 0.1878422\ttotal: 2.96s\tremaining: 1.47s\n",
            "668:\tlearn: 0.1877551\ttotal: 2.97s\tremaining: 1.47s\n",
            "669:\tlearn: 0.1877162\ttotal: 2.97s\tremaining: 1.46s\n",
            "670:\tlearn: 0.1874459\ttotal: 2.98s\tremaining: 1.46s\n",
            "671:\tlearn: 0.1874142\ttotal: 2.98s\tremaining: 1.45s\n",
            "672:\tlearn: 0.1872882\ttotal: 2.98s\tremaining: 1.45s\n",
            "673:\tlearn: 0.1871916\ttotal: 2.99s\tremaining: 1.45s\n",
            "674:\tlearn: 0.1870672\ttotal: 2.99s\tremaining: 1.44s\n",
            "675:\tlearn: 0.1868736\ttotal: 3s\tremaining: 1.44s\n",
            "676:\tlearn: 0.1867440\ttotal: 3s\tremaining: 1.43s\n",
            "677:\tlearn: 0.1865940\ttotal: 3.01s\tremaining: 1.43s\n",
            "678:\tlearn: 0.1863721\ttotal: 3.01s\tremaining: 1.42s\n",
            "679:\tlearn: 0.1862128\ttotal: 3.02s\tremaining: 1.42s\n",
            "680:\tlearn: 0.1861419\ttotal: 3.02s\tremaining: 1.42s\n",
            "681:\tlearn: 0.1860444\ttotal: 3.03s\tremaining: 1.41s\n",
            "682:\tlearn: 0.1859509\ttotal: 3.03s\tremaining: 1.41s\n",
            "683:\tlearn: 0.1857439\ttotal: 3.04s\tremaining: 1.4s\n",
            "684:\tlearn: 0.1855887\ttotal: 3.04s\tremaining: 1.4s\n",
            "685:\tlearn: 0.1854098\ttotal: 3.04s\tremaining: 1.39s\n",
            "686:\tlearn: 0.1853416\ttotal: 3.05s\tremaining: 1.39s\n",
            "687:\tlearn: 0.1852850\ttotal: 3.05s\tremaining: 1.38s\n",
            "688:\tlearn: 0.1852057\ttotal: 3.06s\tremaining: 1.38s\n",
            "689:\tlearn: 0.1849603\ttotal: 3.06s\tremaining: 1.38s\n",
            "690:\tlearn: 0.1848459\ttotal: 3.07s\tremaining: 1.37s\n",
            "691:\tlearn: 0.1847738\ttotal: 3.07s\tremaining: 1.37s\n",
            "692:\tlearn: 0.1846286\ttotal: 3.08s\tremaining: 1.36s\n",
            "693:\tlearn: 0.1845966\ttotal: 3.08s\tremaining: 1.36s\n",
            "694:\tlearn: 0.1843450\ttotal: 3.08s\tremaining: 1.35s\n",
            "695:\tlearn: 0.1842186\ttotal: 3.09s\tremaining: 1.35s\n",
            "696:\tlearn: 0.1840204\ttotal: 3.09s\tremaining: 1.34s\n",
            "697:\tlearn: 0.1839366\ttotal: 3.1s\tremaining: 1.34s\n",
            "698:\tlearn: 0.1837793\ttotal: 3.1s\tremaining: 1.34s\n",
            "699:\tlearn: 0.1836010\ttotal: 3.11s\tremaining: 1.33s\n",
            "700:\tlearn: 0.1834767\ttotal: 3.11s\tremaining: 1.33s\n",
            "701:\tlearn: 0.1833541\ttotal: 3.12s\tremaining: 1.32s\n",
            "702:\tlearn: 0.1831807\ttotal: 3.12s\tremaining: 1.32s\n",
            "703:\tlearn: 0.1831039\ttotal: 3.13s\tremaining: 1.31s\n",
            "704:\tlearn: 0.1829482\ttotal: 3.13s\tremaining: 1.31s\n",
            "705:\tlearn: 0.1827859\ttotal: 3.13s\tremaining: 1.3s\n",
            "706:\tlearn: 0.1826975\ttotal: 3.14s\tremaining: 1.3s\n",
            "707:\tlearn: 0.1825590\ttotal: 3.14s\tremaining: 1.3s\n",
            "708:\tlearn: 0.1824741\ttotal: 3.15s\tremaining: 1.29s\n",
            "709:\tlearn: 0.1822590\ttotal: 3.16s\tremaining: 1.29s\n",
            "710:\tlearn: 0.1820523\ttotal: 3.16s\tremaining: 1.28s\n",
            "711:\tlearn: 0.1819185\ttotal: 3.17s\tremaining: 1.28s\n",
            "712:\tlearn: 0.1816593\ttotal: 3.17s\tremaining: 1.28s\n",
            "713:\tlearn: 0.1816078\ttotal: 3.18s\tremaining: 1.27s\n",
            "714:\tlearn: 0.1814857\ttotal: 3.18s\tremaining: 1.27s\n",
            "715:\tlearn: 0.1813343\ttotal: 3.19s\tremaining: 1.26s\n",
            "716:\tlearn: 0.1811257\ttotal: 3.19s\tremaining: 1.26s\n",
            "717:\tlearn: 0.1810770\ttotal: 3.19s\tremaining: 1.25s\n",
            "718:\tlearn: 0.1809947\ttotal: 3.2s\tremaining: 1.25s\n",
            "719:\tlearn: 0.1808611\ttotal: 3.2s\tremaining: 1.25s\n",
            "720:\tlearn: 0.1807297\ttotal: 3.21s\tremaining: 1.24s\n",
            "721:\tlearn: 0.1805267\ttotal: 3.21s\tremaining: 1.24s\n",
            "722:\tlearn: 0.1804444\ttotal: 3.22s\tremaining: 1.23s\n",
            "723:\tlearn: 0.1802014\ttotal: 3.22s\tremaining: 1.23s\n",
            "724:\tlearn: 0.1799712\ttotal: 3.23s\tremaining: 1.22s\n",
            "725:\tlearn: 0.1798118\ttotal: 3.23s\tremaining: 1.22s\n",
            "726:\tlearn: 0.1797282\ttotal: 3.23s\tremaining: 1.21s\n",
            "727:\tlearn: 0.1795849\ttotal: 3.24s\tremaining: 1.21s\n",
            "728:\tlearn: 0.1794768\ttotal: 3.24s\tremaining: 1.21s\n",
            "729:\tlearn: 0.1793822\ttotal: 3.25s\tremaining: 1.2s\n",
            "730:\tlearn: 0.1792548\ttotal: 3.25s\tremaining: 1.2s\n",
            "731:\tlearn: 0.1791452\ttotal: 3.26s\tremaining: 1.19s\n",
            "732:\tlearn: 0.1790143\ttotal: 3.26s\tremaining: 1.19s\n",
            "733:\tlearn: 0.1789305\ttotal: 3.27s\tremaining: 1.19s\n",
            "734:\tlearn: 0.1787233\ttotal: 3.28s\tremaining: 1.18s\n",
            "735:\tlearn: 0.1786124\ttotal: 3.29s\tremaining: 1.18s\n",
            "736:\tlearn: 0.1784289\ttotal: 3.29s\tremaining: 1.18s\n",
            "737:\tlearn: 0.1783881\ttotal: 3.3s\tremaining: 1.17s\n",
            "738:\tlearn: 0.1782087\ttotal: 3.3s\tremaining: 1.17s\n",
            "739:\tlearn: 0.1780546\ttotal: 3.31s\tremaining: 1.16s\n",
            "740:\tlearn: 0.1779244\ttotal: 3.31s\tremaining: 1.16s\n",
            "741:\tlearn: 0.1777887\ttotal: 3.31s\tremaining: 1.15s\n",
            "742:\tlearn: 0.1776807\ttotal: 3.32s\tremaining: 1.15s\n",
            "743:\tlearn: 0.1775178\ttotal: 3.32s\tremaining: 1.14s\n",
            "744:\tlearn: 0.1773448\ttotal: 3.33s\tremaining: 1.14s\n",
            "745:\tlearn: 0.1771020\ttotal: 3.33s\tremaining: 1.13s\n",
            "746:\tlearn: 0.1769756\ttotal: 3.34s\tremaining: 1.13s\n",
            "747:\tlearn: 0.1768741\ttotal: 3.34s\tremaining: 1.13s\n",
            "748:\tlearn: 0.1767107\ttotal: 3.35s\tremaining: 1.12s\n",
            "749:\tlearn: 0.1766128\ttotal: 3.35s\tremaining: 1.12s\n",
            "750:\tlearn: 0.1764386\ttotal: 3.36s\tremaining: 1.11s\n",
            "751:\tlearn: 0.1764215\ttotal: 3.36s\tremaining: 1.11s\n",
            "752:\tlearn: 0.1763770\ttotal: 3.37s\tremaining: 1.1s\n",
            "753:\tlearn: 0.1762782\ttotal: 3.37s\tremaining: 1.1s\n",
            "754:\tlearn: 0.1761690\ttotal: 3.38s\tremaining: 1.1s\n",
            "755:\tlearn: 0.1761055\ttotal: 3.38s\tremaining: 1.09s\n",
            "756:\tlearn: 0.1760016\ttotal: 3.38s\tremaining: 1.09s\n",
            "757:\tlearn: 0.1759148\ttotal: 3.39s\tremaining: 1.08s\n",
            "758:\tlearn: 0.1757818\ttotal: 3.39s\tremaining: 1.08s\n",
            "759:\tlearn: 0.1756421\ttotal: 3.4s\tremaining: 1.07s\n",
            "760:\tlearn: 0.1755031\ttotal: 3.4s\tremaining: 1.07s\n",
            "761:\tlearn: 0.1753768\ttotal: 3.41s\tremaining: 1.06s\n",
            "762:\tlearn: 0.1752534\ttotal: 3.41s\tremaining: 1.06s\n",
            "763:\tlearn: 0.1750806\ttotal: 3.42s\tremaining: 1.06s\n",
            "764:\tlearn: 0.1749337\ttotal: 3.42s\tremaining: 1.05s\n",
            "765:\tlearn: 0.1749150\ttotal: 3.43s\tremaining: 1.05s\n",
            "766:\tlearn: 0.1748030\ttotal: 3.45s\tremaining: 1.05s\n",
            "767:\tlearn: 0.1746918\ttotal: 3.45s\tremaining: 1.04s\n",
            "768:\tlearn: 0.1745189\ttotal: 3.46s\tremaining: 1.04s\n",
            "769:\tlearn: 0.1743979\ttotal: 3.46s\tremaining: 1.03s\n",
            "770:\tlearn: 0.1742393\ttotal: 3.47s\tremaining: 1.03s\n",
            "771:\tlearn: 0.1740601\ttotal: 3.47s\tremaining: 1.02s\n",
            "772:\tlearn: 0.1740008\ttotal: 3.48s\tremaining: 1.02s\n",
            "773:\tlearn: 0.1739443\ttotal: 3.48s\tremaining: 1.02s\n",
            "774:\tlearn: 0.1739112\ttotal: 3.48s\tremaining: 1.01s\n",
            "775:\tlearn: 0.1737308\ttotal: 3.49s\tremaining: 1.01s\n",
            "776:\tlearn: 0.1735742\ttotal: 3.49s\tremaining: 1s\n",
            "777:\tlearn: 0.1734272\ttotal: 3.5s\tremaining: 999ms\n",
            "778:\tlearn: 0.1732793\ttotal: 3.5s\tremaining: 994ms\n",
            "779:\tlearn: 0.1732514\ttotal: 3.51s\tremaining: 990ms\n",
            "780:\tlearn: 0.1732054\ttotal: 3.51s\tremaining: 985ms\n",
            "781:\tlearn: 0.1730203\ttotal: 3.52s\tremaining: 981ms\n",
            "782:\tlearn: 0.1729708\ttotal: 3.52s\tremaining: 976ms\n",
            "783:\tlearn: 0.1728289\ttotal: 3.53s\tremaining: 972ms\n",
            "784:\tlearn: 0.1727939\ttotal: 3.54s\tremaining: 970ms\n",
            "785:\tlearn: 0.1725283\ttotal: 3.55s\tremaining: 966ms\n",
            "786:\tlearn: 0.1724352\ttotal: 3.55s\tremaining: 961ms\n",
            "787:\tlearn: 0.1723452\ttotal: 3.56s\tremaining: 957ms\n",
            "788:\tlearn: 0.1722756\ttotal: 3.56s\tremaining: 952ms\n",
            "789:\tlearn: 0.1721041\ttotal: 3.57s\tremaining: 948ms\n",
            "790:\tlearn: 0.1719564\ttotal: 3.57s\tremaining: 944ms\n",
            "791:\tlearn: 0.1719326\ttotal: 3.58s\tremaining: 939ms\n",
            "792:\tlearn: 0.1718278\ttotal: 3.58s\tremaining: 935ms\n",
            "793:\tlearn: 0.1716823\ttotal: 3.58s\tremaining: 930ms\n",
            "794:\tlearn: 0.1714913\ttotal: 3.59s\tremaining: 925ms\n",
            "795:\tlearn: 0.1713978\ttotal: 3.59s\tremaining: 921ms\n",
            "796:\tlearn: 0.1713257\ttotal: 3.6s\tremaining: 917ms\n",
            "797:\tlearn: 0.1711875\ttotal: 3.6s\tremaining: 912ms\n",
            "798:\tlearn: 0.1711355\ttotal: 3.61s\tremaining: 907ms\n",
            "799:\tlearn: 0.1710598\ttotal: 3.61s\tremaining: 903ms\n",
            "800:\tlearn: 0.1710536\ttotal: 3.62s\tremaining: 898ms\n",
            "801:\tlearn: 0.1708613\ttotal: 3.62s\tremaining: 894ms\n",
            "802:\tlearn: 0.1706939\ttotal: 3.62s\tremaining: 889ms\n",
            "803:\tlearn: 0.1706467\ttotal: 3.63s\tremaining: 885ms\n",
            "804:\tlearn: 0.1705215\ttotal: 3.63s\tremaining: 880ms\n",
            "805:\tlearn: 0.1703993\ttotal: 3.64s\tremaining: 876ms\n",
            "806:\tlearn: 0.1702266\ttotal: 3.64s\tremaining: 871ms\n",
            "807:\tlearn: 0.1701501\ttotal: 3.65s\tremaining: 867ms\n",
            "808:\tlearn: 0.1698787\ttotal: 3.65s\tremaining: 862ms\n",
            "809:\tlearn: 0.1696970\ttotal: 3.66s\tremaining: 858ms\n",
            "810:\tlearn: 0.1696157\ttotal: 3.66s\tremaining: 853ms\n",
            "811:\tlearn: 0.1694928\ttotal: 3.67s\tremaining: 849ms\n",
            "812:\tlearn: 0.1693756\ttotal: 3.67s\tremaining: 844ms\n",
            "813:\tlearn: 0.1692601\ttotal: 3.67s\tremaining: 840ms\n",
            "814:\tlearn: 0.1691327\ttotal: 3.68s\tremaining: 835ms\n",
            "815:\tlearn: 0.1690472\ttotal: 3.68s\tremaining: 831ms\n",
            "816:\tlearn: 0.1687808\ttotal: 3.69s\tremaining: 826ms\n",
            "817:\tlearn: 0.1686321\ttotal: 3.69s\tremaining: 822ms\n",
            "818:\tlearn: 0.1685652\ttotal: 3.7s\tremaining: 817ms\n",
            "819:\tlearn: 0.1685027\ttotal: 3.7s\tremaining: 813ms\n",
            "820:\tlearn: 0.1683267\ttotal: 3.71s\tremaining: 808ms\n",
            "821:\tlearn: 0.1681362\ttotal: 3.71s\tremaining: 804ms\n",
            "822:\tlearn: 0.1679814\ttotal: 3.72s\tremaining: 799ms\n",
            "823:\tlearn: 0.1679511\ttotal: 3.72s\tremaining: 795ms\n",
            "824:\tlearn: 0.1678264\ttotal: 3.73s\tremaining: 790ms\n",
            "825:\tlearn: 0.1676928\ttotal: 3.73s\tremaining: 786ms\n",
            "826:\tlearn: 0.1676146\ttotal: 3.73s\tremaining: 781ms\n",
            "827:\tlearn: 0.1675531\ttotal: 3.74s\tremaining: 777ms\n",
            "828:\tlearn: 0.1674478\ttotal: 3.74s\tremaining: 772ms\n",
            "829:\tlearn: 0.1673696\ttotal: 3.75s\tremaining: 768ms\n",
            "830:\tlearn: 0.1673201\ttotal: 3.75s\tremaining: 763ms\n",
            "831:\tlearn: 0.1672173\ttotal: 3.76s\tremaining: 759ms\n",
            "832:\tlearn: 0.1671308\ttotal: 3.76s\tremaining: 754ms\n",
            "833:\tlearn: 0.1670120\ttotal: 3.77s\tremaining: 750ms\n",
            "834:\tlearn: 0.1669066\ttotal: 3.77s\tremaining: 745ms\n",
            "835:\tlearn: 0.1668530\ttotal: 3.77s\tremaining: 741ms\n",
            "836:\tlearn: 0.1668329\ttotal: 3.78s\tremaining: 736ms\n",
            "837:\tlearn: 0.1667970\ttotal: 3.79s\tremaining: 732ms\n",
            "838:\tlearn: 0.1667024\ttotal: 3.79s\tremaining: 727ms\n",
            "839:\tlearn: 0.1666468\ttotal: 3.79s\tremaining: 723ms\n",
            "840:\tlearn: 0.1665831\ttotal: 3.8s\tremaining: 718ms\n",
            "841:\tlearn: 0.1663905\ttotal: 3.8s\tremaining: 714ms\n",
            "842:\tlearn: 0.1662416\ttotal: 3.81s\tremaining: 709ms\n",
            "843:\tlearn: 0.1661415\ttotal: 3.81s\tremaining: 705ms\n",
            "844:\tlearn: 0.1660456\ttotal: 3.82s\tremaining: 700ms\n",
            "845:\tlearn: 0.1659382\ttotal: 3.82s\tremaining: 696ms\n",
            "846:\tlearn: 0.1657536\ttotal: 3.83s\tremaining: 691ms\n",
            "847:\tlearn: 0.1656605\ttotal: 3.83s\tremaining: 687ms\n",
            "848:\tlearn: 0.1655299\ttotal: 3.84s\tremaining: 683ms\n",
            "849:\tlearn: 0.1653816\ttotal: 3.84s\tremaining: 678ms\n",
            "850:\tlearn: 0.1652763\ttotal: 3.85s\tremaining: 674ms\n",
            "851:\tlearn: 0.1651789\ttotal: 3.85s\tremaining: 670ms\n",
            "852:\tlearn: 0.1651448\ttotal: 3.86s\tremaining: 666ms\n",
            "853:\tlearn: 0.1650372\ttotal: 3.87s\tremaining: 662ms\n",
            "854:\tlearn: 0.1648539\ttotal: 3.87s\tremaining: 657ms\n",
            "855:\tlearn: 0.1647971\ttotal: 3.88s\tremaining: 653ms\n",
            "856:\tlearn: 0.1646428\ttotal: 3.88s\tremaining: 648ms\n",
            "857:\tlearn: 0.1645969\ttotal: 3.89s\tremaining: 644ms\n",
            "858:\tlearn: 0.1645813\ttotal: 3.89s\tremaining: 639ms\n",
            "859:\tlearn: 0.1644952\ttotal: 3.9s\tremaining: 634ms\n",
            "860:\tlearn: 0.1643887\ttotal: 3.9s\tremaining: 630ms\n",
            "861:\tlearn: 0.1643013\ttotal: 3.91s\tremaining: 625ms\n",
            "862:\tlearn: 0.1641585\ttotal: 3.91s\tremaining: 621ms\n",
            "863:\tlearn: 0.1641404\ttotal: 3.92s\tremaining: 616ms\n",
            "864:\tlearn: 0.1641090\ttotal: 3.92s\tremaining: 612ms\n",
            "865:\tlearn: 0.1640173\ttotal: 3.92s\tremaining: 607ms\n",
            "866:\tlearn: 0.1638720\ttotal: 3.93s\tremaining: 603ms\n",
            "867:\tlearn: 0.1637579\ttotal: 3.94s\tremaining: 599ms\n",
            "868:\tlearn: 0.1636086\ttotal: 3.94s\tremaining: 595ms\n",
            "869:\tlearn: 0.1634463\ttotal: 3.95s\tremaining: 590ms\n",
            "870:\tlearn: 0.1633084\ttotal: 3.95s\tremaining: 585ms\n",
            "871:\tlearn: 0.1632816\ttotal: 3.96s\tremaining: 581ms\n",
            "872:\tlearn: 0.1631738\ttotal: 3.96s\tremaining: 576ms\n",
            "873:\tlearn: 0.1629811\ttotal: 3.96s\tremaining: 572ms\n",
            "874:\tlearn: 0.1629036\ttotal: 3.97s\tremaining: 567ms\n",
            "875:\tlearn: 0.1627975\ttotal: 3.97s\tremaining: 563ms\n",
            "876:\tlearn: 0.1625914\ttotal: 3.98s\tremaining: 558ms\n",
            "877:\tlearn: 0.1625636\ttotal: 3.98s\tremaining: 553ms\n",
            "878:\tlearn: 0.1624745\ttotal: 3.99s\tremaining: 549ms\n",
            "879:\tlearn: 0.1623152\ttotal: 3.99s\tremaining: 545ms\n",
            "880:\tlearn: 0.1622521\ttotal: 4s\tremaining: 540ms\n",
            "881:\tlearn: 0.1621147\ttotal: 4s\tremaining: 536ms\n",
            "882:\tlearn: 0.1620651\ttotal: 4.01s\tremaining: 531ms\n",
            "883:\tlearn: 0.1619861\ttotal: 4.01s\tremaining: 527ms\n",
            "884:\tlearn: 0.1619085\ttotal: 4.02s\tremaining: 522ms\n",
            "885:\tlearn: 0.1617962\ttotal: 4.02s\tremaining: 518ms\n",
            "886:\tlearn: 0.1617705\ttotal: 4.03s\tremaining: 513ms\n",
            "887:\tlearn: 0.1616665\ttotal: 4.03s\tremaining: 509ms\n",
            "888:\tlearn: 0.1614029\ttotal: 4.04s\tremaining: 504ms\n",
            "889:\tlearn: 0.1612263\ttotal: 4.04s\tremaining: 500ms\n",
            "890:\tlearn: 0.1611368\ttotal: 4.05s\tremaining: 495ms\n",
            "891:\tlearn: 0.1610413\ttotal: 4.05s\tremaining: 490ms\n",
            "892:\tlearn: 0.1610084\ttotal: 4.05s\tremaining: 486ms\n",
            "893:\tlearn: 0.1608624\ttotal: 4.06s\tremaining: 481ms\n",
            "894:\tlearn: 0.1608192\ttotal: 4.06s\tremaining: 477ms\n",
            "895:\tlearn: 0.1607261\ttotal: 4.07s\tremaining: 472ms\n",
            "896:\tlearn: 0.1606200\ttotal: 4.07s\tremaining: 468ms\n",
            "897:\tlearn: 0.1605103\ttotal: 4.08s\tremaining: 463ms\n",
            "898:\tlearn: 0.1603683\ttotal: 4.08s\tremaining: 459ms\n",
            "899:\tlearn: 0.1601999\ttotal: 4.09s\tremaining: 454ms\n",
            "900:\tlearn: 0.1601749\ttotal: 4.09s\tremaining: 450ms\n",
            "901:\tlearn: 0.1599774\ttotal: 4.1s\tremaining: 445ms\n",
            "902:\tlearn: 0.1598688\ttotal: 4.1s\tremaining: 441ms\n",
            "903:\tlearn: 0.1597840\ttotal: 4.11s\tremaining: 436ms\n",
            "904:\tlearn: 0.1595887\ttotal: 4.11s\tremaining: 431ms\n",
            "905:\tlearn: 0.1594930\ttotal: 4.11s\tremaining: 427ms\n",
            "906:\tlearn: 0.1593866\ttotal: 4.12s\tremaining: 422ms\n",
            "907:\tlearn: 0.1592600\ttotal: 4.12s\tremaining: 418ms\n",
            "908:\tlearn: 0.1592068\ttotal: 4.13s\tremaining: 414ms\n",
            "909:\tlearn: 0.1591444\ttotal: 4.14s\tremaining: 410ms\n",
            "910:\tlearn: 0.1590781\ttotal: 4.15s\tremaining: 405ms\n",
            "911:\tlearn: 0.1589255\ttotal: 4.16s\tremaining: 401ms\n",
            "912:\tlearn: 0.1587467\ttotal: 4.16s\tremaining: 396ms\n",
            "913:\tlearn: 0.1585994\ttotal: 4.16s\tremaining: 392ms\n",
            "914:\tlearn: 0.1585376\ttotal: 4.17s\tremaining: 387ms\n",
            "915:\tlearn: 0.1584525\ttotal: 4.17s\tremaining: 383ms\n",
            "916:\tlearn: 0.1582478\ttotal: 4.18s\tremaining: 378ms\n",
            "917:\tlearn: 0.1580820\ttotal: 4.18s\tremaining: 374ms\n",
            "918:\tlearn: 0.1580057\ttotal: 4.19s\tremaining: 369ms\n",
            "919:\tlearn: 0.1578984\ttotal: 4.19s\tremaining: 365ms\n",
            "920:\tlearn: 0.1578158\ttotal: 4.2s\tremaining: 360ms\n",
            "921:\tlearn: 0.1577974\ttotal: 4.2s\tremaining: 355ms\n",
            "922:\tlearn: 0.1576974\ttotal: 4.21s\tremaining: 351ms\n",
            "923:\tlearn: 0.1575551\ttotal: 4.21s\tremaining: 346ms\n",
            "924:\tlearn: 0.1574599\ttotal: 4.21s\tremaining: 342ms\n",
            "925:\tlearn: 0.1573062\ttotal: 4.22s\tremaining: 337ms\n",
            "926:\tlearn: 0.1570735\ttotal: 4.22s\tremaining: 333ms\n",
            "927:\tlearn: 0.1570164\ttotal: 4.23s\tremaining: 328ms\n",
            "928:\tlearn: 0.1569984\ttotal: 4.24s\tremaining: 324ms\n",
            "929:\tlearn: 0.1568767\ttotal: 4.24s\tremaining: 319ms\n",
            "930:\tlearn: 0.1567578\ttotal: 4.25s\tremaining: 315ms\n",
            "931:\tlearn: 0.1566515\ttotal: 4.25s\tremaining: 310ms\n",
            "932:\tlearn: 0.1566339\ttotal: 4.26s\tremaining: 306ms\n",
            "933:\tlearn: 0.1565567\ttotal: 4.26s\tremaining: 301ms\n",
            "934:\tlearn: 0.1565301\ttotal: 4.27s\tremaining: 297ms\n",
            "935:\tlearn: 0.1564576\ttotal: 4.27s\tremaining: 292ms\n",
            "936:\tlearn: 0.1563725\ttotal: 4.28s\tremaining: 288ms\n",
            "937:\tlearn: 0.1562349\ttotal: 4.28s\tremaining: 283ms\n",
            "938:\tlearn: 0.1562053\ttotal: 4.29s\tremaining: 278ms\n",
            "939:\tlearn: 0.1561187\ttotal: 4.29s\tremaining: 274ms\n",
            "940:\tlearn: 0.1559846\ttotal: 4.29s\tremaining: 269ms\n",
            "941:\tlearn: 0.1558669\ttotal: 4.3s\tremaining: 265ms\n",
            "942:\tlearn: 0.1557493\ttotal: 4.3s\tremaining: 260ms\n",
            "943:\tlearn: 0.1556808\ttotal: 4.31s\tremaining: 256ms\n",
            "944:\tlearn: 0.1555267\ttotal: 4.31s\tremaining: 251ms\n",
            "945:\tlearn: 0.1554547\ttotal: 4.32s\tremaining: 246ms\n",
            "946:\tlearn: 0.1553696\ttotal: 4.32s\tremaining: 242ms\n",
            "947:\tlearn: 0.1553256\ttotal: 4.32s\tremaining: 237ms\n",
            "948:\tlearn: 0.1552925\ttotal: 4.33s\tremaining: 233ms\n",
            "949:\tlearn: 0.1552025\ttotal: 4.34s\tremaining: 228ms\n",
            "950:\tlearn: 0.1550531\ttotal: 4.34s\tremaining: 224ms\n",
            "951:\tlearn: 0.1549935\ttotal: 4.35s\tremaining: 219ms\n",
            "952:\tlearn: 0.1548462\ttotal: 4.35s\tremaining: 215ms\n",
            "953:\tlearn: 0.1547760\ttotal: 4.36s\tremaining: 210ms\n",
            "954:\tlearn: 0.1547577\ttotal: 4.36s\tremaining: 205ms\n",
            "955:\tlearn: 0.1546629\ttotal: 4.36s\tremaining: 201ms\n",
            "956:\tlearn: 0.1545147\ttotal: 4.37s\tremaining: 196ms\n",
            "957:\tlearn: 0.1543842\ttotal: 4.37s\tremaining: 192ms\n",
            "958:\tlearn: 0.1542955\ttotal: 4.38s\tremaining: 187ms\n",
            "959:\tlearn: 0.1541813\ttotal: 4.38s\tremaining: 183ms\n",
            "960:\tlearn: 0.1540552\ttotal: 4.39s\tremaining: 178ms\n",
            "961:\tlearn: 0.1539315\ttotal: 4.39s\tremaining: 173ms\n",
            "962:\tlearn: 0.1538398\ttotal: 4.4s\tremaining: 169ms\n",
            "963:\tlearn: 0.1537583\ttotal: 4.4s\tremaining: 164ms\n",
            "964:\tlearn: 0.1536715\ttotal: 4.41s\tremaining: 160ms\n",
            "965:\tlearn: 0.1536351\ttotal: 4.41s\tremaining: 155ms\n",
            "966:\tlearn: 0.1535025\ttotal: 4.41s\tremaining: 151ms\n",
            "967:\tlearn: 0.1534348\ttotal: 4.42s\tremaining: 146ms\n",
            "968:\tlearn: 0.1533594\ttotal: 4.42s\tremaining: 142ms\n",
            "969:\tlearn: 0.1532795\ttotal: 4.43s\tremaining: 137ms\n",
            "970:\tlearn: 0.1532107\ttotal: 4.43s\tremaining: 132ms\n",
            "971:\tlearn: 0.1530709\ttotal: 4.44s\tremaining: 128ms\n",
            "972:\tlearn: 0.1529496\ttotal: 4.44s\tremaining: 123ms\n",
            "973:\tlearn: 0.1529392\ttotal: 4.45s\tremaining: 119ms\n",
            "974:\tlearn: 0.1527992\ttotal: 4.45s\tremaining: 114ms\n",
            "975:\tlearn: 0.1527193\ttotal: 4.46s\tremaining: 110ms\n",
            "976:\tlearn: 0.1526409\ttotal: 4.46s\tremaining: 105ms\n",
            "977:\tlearn: 0.1525338\ttotal: 4.46s\tremaining: 100ms\n",
            "978:\tlearn: 0.1524219\ttotal: 4.47s\tremaining: 95.9ms\n",
            "979:\tlearn: 0.1523429\ttotal: 4.47s\tremaining: 91.3ms\n",
            "980:\tlearn: 0.1523314\ttotal: 4.48s\tremaining: 86.7ms\n",
            "981:\tlearn: 0.1521956\ttotal: 4.48s\tremaining: 82.2ms\n",
            "982:\tlearn: 0.1520508\ttotal: 4.49s\tremaining: 77.6ms\n",
            "983:\tlearn: 0.1519695\ttotal: 4.49s\tremaining: 73ms\n",
            "984:\tlearn: 0.1518994\ttotal: 4.5s\tremaining: 68.5ms\n",
            "985:\tlearn: 0.1517788\ttotal: 4.5s\tremaining: 63.9ms\n",
            "986:\tlearn: 0.1516990\ttotal: 4.5s\tremaining: 59.3ms\n",
            "987:\tlearn: 0.1515315\ttotal: 4.51s\tremaining: 54.8ms\n",
            "988:\tlearn: 0.1514144\ttotal: 4.51s\tremaining: 50.2ms\n",
            "989:\tlearn: 0.1513071\ttotal: 4.52s\tremaining: 45.6ms\n",
            "990:\tlearn: 0.1511795\ttotal: 4.53s\tremaining: 41.1ms\n",
            "991:\tlearn: 0.1511249\ttotal: 4.53s\tremaining: 36.5ms\n",
            "992:\tlearn: 0.1510003\ttotal: 4.54s\tremaining: 32ms\n",
            "993:\tlearn: 0.1509600\ttotal: 4.54s\tremaining: 27.4ms\n",
            "994:\tlearn: 0.1508941\ttotal: 4.54s\tremaining: 22.8ms\n",
            "995:\tlearn: 0.1508106\ttotal: 4.55s\tremaining: 18.3ms\n",
            "996:\tlearn: 0.1506298\ttotal: 4.55s\tremaining: 13.7ms\n",
            "997:\tlearn: 0.1505296\ttotal: 4.56s\tremaining: 9.13ms\n",
            "998:\tlearn: 0.1503934\ttotal: 4.56s\tremaining: 4.57ms\n",
            "999:\tlearn: 0.1502485\ttotal: 4.57s\tremaining: 0us\n",
            "              precision    recall  f1-score   support\n",
            "\n",
            "           0       0.89      0.96      0.93       264\n",
            "           1       0.33      0.14      0.20        36\n",
            "\n",
            "    accuracy                           0.86       300\n",
            "   macro avg       0.61      0.55      0.56       300\n",
            "weighted avg       0.82      0.86      0.84       300\n",
            "\n"
          ]
        }
      ]
    },
    {
      "cell_type": "markdown",
      "source": [
        "# Comparison"
      ],
      "metadata": {
        "id": "MNtQY7caG_b5"
      }
    },
    {
      "cell_type": "markdown",
      "source": [
        "## DS 1"
      ],
      "metadata": {
        "id": "Y1v0vICfjXvp"
      }
    },
    {
      "cell_type": "code",
      "source": [
        "df_1 = pd.read_csv('/content/citrus.csv')\n",
        "\n",
        "df_1 = df_1.sample(frac=1).reset_index(drop=True)[:2000]"
      ],
      "metadata": {
        "id": "4DIFave2683T"
      },
      "execution_count": 794,
      "outputs": []
    },
    {
      "cell_type": "code",
      "source": [
        "numeric = ['diameter', 'weight', 'red', 'green', 'blue']\n",
        "target = 'name'"
      ],
      "metadata": {
        "id": "leFuJK8l7BjW"
      },
      "execution_count": 795,
      "outputs": []
    },
    {
      "cell_type": "code",
      "source": [
        "df_1['target'] = pd.get_dummies(df_1[target])['orange']\n",
        "df_1.drop(columns='name', inplace=True)"
      ],
      "metadata": {
        "id": "l1F1QGNi7CDq"
      },
      "execution_count": 796,
      "outputs": []
    },
    {
      "cell_type": "code",
      "source": [],
      "metadata": {
        "id": "dskCsgwv8tcO"
      },
      "execution_count": 797,
      "outputs": []
    },
    {
      "cell_type": "code",
      "source": [
        "y = df_1['target']\n",
        "X = df_1.drop(columns='target')"
      ],
      "metadata": {
        "id": "NWQICMHz8_TD"
      },
      "execution_count": 798,
      "outputs": []
    },
    {
      "cell_type": "code",
      "source": [
        "%%time\n",
        "\n",
        "n_test = 300\n",
        "gen = predict_array_pattern(np.array(X), np.array(y), n_test, use_tqdm=True)\n",
        "y_preds, t_preds = apply_stopwatch(gen)"
      ],
      "metadata": {
        "colab": {
          "base_uri": "https://localhost:8080/"
        },
        "id": "UazsHLea9hyx",
        "outputId": "1a22656b-308d-4baf-f152-3a0a3d693d41"
      },
      "execution_count": 805,
      "outputs": [
        {
          "output_type": "stream",
          "name": "stderr",
          "text": [
            "Predicting step by step: 100%|██████████| 300/300 [00:15<00:00, 19.46it/s]"
          ]
        },
        {
          "output_type": "stream",
          "name": "stdout",
          "text": [
            "CPU times: user 13.3 s, sys: 75.6 ms, total: 13.4 s\n",
            "Wall time: 15.4 s\n"
          ]
        },
        {
          "output_type": "stream",
          "name": "stderr",
          "text": [
            "\n"
          ]
        }
      ]
    },
    {
      "cell_type": "code",
      "source": [
        "from sklearn.metrics import accuracy_score, f1_score, precision_score, recall_score, classification_report\n",
        "print(classification_report(y[:n_test], y_preds))"
      ],
      "metadata": {
        "colab": {
          "base_uri": "https://localhost:8080/"
        },
        "id": "oDY0RI7i98Hp",
        "outputId": "9eb78eae-60b7-407f-fe79-cc5f837c4c88"
      },
      "execution_count": 806,
      "outputs": [
        {
          "output_type": "stream",
          "name": "stdout",
          "text": [
            "              precision    recall  f1-score   support\n",
            "\n",
            "           0       0.48      0.54      0.51       147\n",
            "           1       0.49      0.42      0.46       153\n",
            "\n",
            "    accuracy                           0.48       300\n",
            "   macro avg       0.48      0.48      0.48       300\n",
            "weighted avg       0.48      0.48      0.48       300\n",
            "\n"
          ]
        }
      ]
    },
    {
      "cell_type": "code",
      "source": [],
      "metadata": {
        "id": "yUAGak2zC0uZ"
      },
      "execution_count": null,
      "outputs": []
    },
    {
      "cell_type": "markdown",
      "source": [
        "## DS 2"
      ],
      "metadata": {
        "id": "XMaASbdIjZ-t"
      }
    },
    {
      "cell_type": "code",
      "source": [
        "df_2 = pd.read_csv('/content/diabetes 2.csv')\n",
        "\n",
        "df_2 = df_2.sample(frac=1).reset_index(drop=True)"
      ],
      "metadata": {
        "id": "LnW9s8qdjb8V"
      },
      "execution_count": 819,
      "outputs": []
    },
    {
      "cell_type": "code",
      "source": [
        "y = df_2['Outcome']\n",
        "X = df_2.drop(columns='Outcome')"
      ],
      "metadata": {
        "id": "dyJORId7jlju"
      },
      "execution_count": 820,
      "outputs": []
    },
    {
      "cell_type": "code",
      "source": [
        "%%time\n",
        "\n",
        "n_test = 150\n",
        "gen = predict_array_pattern(np.array(X), np.array(y), n_test, use_tqdm=True)\n",
        "y_preds, t_preds = apply_stopwatch(gen)"
      ],
      "metadata": {
        "colab": {
          "base_uri": "https://localhost:8080/"
        },
        "id": "bhNv_KdMjw7y",
        "outputId": "90bedc53-d330-488c-f0d1-471b30621d84"
      },
      "execution_count": 821,
      "outputs": [
        {
          "output_type": "stream",
          "name": "stderr",
          "text": [
            "Predicting step by step: 100%|██████████| 150/150 [00:01<00:00, 108.31it/s]"
          ]
        },
        {
          "output_type": "stream",
          "name": "stdout",
          "text": [
            "CPU times: user 1.36 s, sys: 7.99 ms, total: 1.37 s\n",
            "Wall time: 1.39 s\n"
          ]
        },
        {
          "output_type": "stream",
          "name": "stderr",
          "text": [
            "\n"
          ]
        }
      ]
    },
    {
      "cell_type": "code",
      "source": [
        "from sklearn.metrics import accuracy_score, f1_score, precision_score, recall_score, classification_report\n",
        "print(classification_report(y[:n_test], y_preds))"
      ],
      "metadata": {
        "colab": {
          "base_uri": "https://localhost:8080/"
        },
        "id": "dEXfNm2nj2Ku",
        "outputId": "9984bc0a-913e-459c-c278-8e9042b9ddab"
      },
      "execution_count": 822,
      "outputs": [
        {
          "output_type": "stream",
          "name": "stdout",
          "text": [
            "              precision    recall  f1-score   support\n",
            "\n",
            "           0       0.67      0.65      0.66       101\n",
            "           1       0.31      0.33      0.32        49\n",
            "\n",
            "    accuracy                           0.55       150\n",
            "   macro avg       0.49      0.49      0.49       150\n",
            "weighted avg       0.55      0.55      0.55       150\n",
            "\n"
          ]
        }
      ]
    },
    {
      "cell_type": "code",
      "source": [],
      "metadata": {
        "id": "RowwHBIHj5Bj"
      },
      "execution_count": null,
      "outputs": []
    },
    {
      "cell_type": "markdown",
      "source": [
        "## DS 3"
      ],
      "metadata": {
        "id": "HJAno9g_kDkY"
      }
    },
    {
      "cell_type": "code",
      "source": [
        "df_3 = pd.read_csv('/content/data (1).csv')\n",
        "\n",
        "df_3 = df_3.sample(frac=1).reset_index(drop=True)\n",
        "\n",
        "df_3.head()"
      ],
      "metadata": {
        "colab": {
          "base_uri": "https://localhost:8080/",
          "height": 206
        },
        "id": "m2gH_JnYkEcj",
        "outputId": "62f11bb5-3557-4446-b278-09ea742c6fef"
      },
      "execution_count": 827,
      "outputs": [
        {
          "output_type": "execute_result",
          "data": {
            "text/plain": [
              "   age  sex  cp trestbps chol fbs restecg thalach exang  oldpeak slope ca  \\\n",
              "0   56    1   4      120   85   0       0     140     0      0.0     ?  ?   \n",
              "1   49    1   4      140  234   0       0     140     1      1.0     2  ?   \n",
              "2   54    1   4      200  198   0       0     142     1      2.0     2  ?   \n",
              "3   44    1   4      150  412   0       0     170     0      0.0     ?  ?   \n",
              "4   57    1   4      150  255   0       0      92     1      3.0     2  ?   \n",
              "\n",
              "  thal  num         \n",
              "0    ?           0  \n",
              "1    ?           1  \n",
              "2    ?           1  \n",
              "3    ?           0  \n",
              "4    ?           1  "
            ],
            "text/html": [
              "\n",
              "  <div id=\"df-c7bfd09b-d35d-45e0-a836-7f6cff361273\">\n",
              "    <div class=\"colab-df-container\">\n",
              "      <div>\n",
              "<style scoped>\n",
              "    .dataframe tbody tr th:only-of-type {\n",
              "        vertical-align: middle;\n",
              "    }\n",
              "\n",
              "    .dataframe tbody tr th {\n",
              "        vertical-align: top;\n",
              "    }\n",
              "\n",
              "    .dataframe thead th {\n",
              "        text-align: right;\n",
              "    }\n",
              "</style>\n",
              "<table border=\"1\" class=\"dataframe\">\n",
              "  <thead>\n",
              "    <tr style=\"text-align: right;\">\n",
              "      <th></th>\n",
              "      <th>age</th>\n",
              "      <th>sex</th>\n",
              "      <th>cp</th>\n",
              "      <th>trestbps</th>\n",
              "      <th>chol</th>\n",
              "      <th>fbs</th>\n",
              "      <th>restecg</th>\n",
              "      <th>thalach</th>\n",
              "      <th>exang</th>\n",
              "      <th>oldpeak</th>\n",
              "      <th>slope</th>\n",
              "      <th>ca</th>\n",
              "      <th>thal</th>\n",
              "      <th>num</th>\n",
              "    </tr>\n",
              "  </thead>\n",
              "  <tbody>\n",
              "    <tr>\n",
              "      <th>0</th>\n",
              "      <td>56</td>\n",
              "      <td>1</td>\n",
              "      <td>4</td>\n",
              "      <td>120</td>\n",
              "      <td>85</td>\n",
              "      <td>0</td>\n",
              "      <td>0</td>\n",
              "      <td>140</td>\n",
              "      <td>0</td>\n",
              "      <td>0.0</td>\n",
              "      <td>?</td>\n",
              "      <td>?</td>\n",
              "      <td>?</td>\n",
              "      <td>0</td>\n",
              "    </tr>\n",
              "    <tr>\n",
              "      <th>1</th>\n",
              "      <td>49</td>\n",
              "      <td>1</td>\n",
              "      <td>4</td>\n",
              "      <td>140</td>\n",
              "      <td>234</td>\n",
              "      <td>0</td>\n",
              "      <td>0</td>\n",
              "      <td>140</td>\n",
              "      <td>1</td>\n",
              "      <td>1.0</td>\n",
              "      <td>2</td>\n",
              "      <td>?</td>\n",
              "      <td>?</td>\n",
              "      <td>1</td>\n",
              "    </tr>\n",
              "    <tr>\n",
              "      <th>2</th>\n",
              "      <td>54</td>\n",
              "      <td>1</td>\n",
              "      <td>4</td>\n",
              "      <td>200</td>\n",
              "      <td>198</td>\n",
              "      <td>0</td>\n",
              "      <td>0</td>\n",
              "      <td>142</td>\n",
              "      <td>1</td>\n",
              "      <td>2.0</td>\n",
              "      <td>2</td>\n",
              "      <td>?</td>\n",
              "      <td>?</td>\n",
              "      <td>1</td>\n",
              "    </tr>\n",
              "    <tr>\n",
              "      <th>3</th>\n",
              "      <td>44</td>\n",
              "      <td>1</td>\n",
              "      <td>4</td>\n",
              "      <td>150</td>\n",
              "      <td>412</td>\n",
              "      <td>0</td>\n",
              "      <td>0</td>\n",
              "      <td>170</td>\n",
              "      <td>0</td>\n",
              "      <td>0.0</td>\n",
              "      <td>?</td>\n",
              "      <td>?</td>\n",
              "      <td>?</td>\n",
              "      <td>0</td>\n",
              "    </tr>\n",
              "    <tr>\n",
              "      <th>4</th>\n",
              "      <td>57</td>\n",
              "      <td>1</td>\n",
              "      <td>4</td>\n",
              "      <td>150</td>\n",
              "      <td>255</td>\n",
              "      <td>0</td>\n",
              "      <td>0</td>\n",
              "      <td>92</td>\n",
              "      <td>1</td>\n",
              "      <td>3.0</td>\n",
              "      <td>2</td>\n",
              "      <td>?</td>\n",
              "      <td>?</td>\n",
              "      <td>1</td>\n",
              "    </tr>\n",
              "  </tbody>\n",
              "</table>\n",
              "</div>\n",
              "      <button class=\"colab-df-convert\" onclick=\"convertToInteractive('df-c7bfd09b-d35d-45e0-a836-7f6cff361273')\"\n",
              "              title=\"Convert this dataframe to an interactive table.\"\n",
              "              style=\"display:none;\">\n",
              "        \n",
              "  <svg xmlns=\"http://www.w3.org/2000/svg\" height=\"24px\"viewBox=\"0 0 24 24\"\n",
              "       width=\"24px\">\n",
              "    <path d=\"M0 0h24v24H0V0z\" fill=\"none\"/>\n",
              "    <path d=\"M18.56 5.44l.94 2.06.94-2.06 2.06-.94-2.06-.94-.94-2.06-.94 2.06-2.06.94zm-11 1L8.5 8.5l.94-2.06 2.06-.94-2.06-.94L8.5 2.5l-.94 2.06-2.06.94zm10 10l.94 2.06.94-2.06 2.06-.94-2.06-.94-.94-2.06-.94 2.06-2.06.94z\"/><path d=\"M17.41 7.96l-1.37-1.37c-.4-.4-.92-.59-1.43-.59-.52 0-1.04.2-1.43.59L10.3 9.45l-7.72 7.72c-.78.78-.78 2.05 0 2.83L4 21.41c.39.39.9.59 1.41.59.51 0 1.02-.2 1.41-.59l7.78-7.78 2.81-2.81c.8-.78.8-2.07 0-2.86zM5.41 20L4 18.59l7.72-7.72 1.47 1.35L5.41 20z\"/>\n",
              "  </svg>\n",
              "      </button>\n",
              "      \n",
              "  <style>\n",
              "    .colab-df-container {\n",
              "      display:flex;\n",
              "      flex-wrap:wrap;\n",
              "      gap: 12px;\n",
              "    }\n",
              "\n",
              "    .colab-df-convert {\n",
              "      background-color: #E8F0FE;\n",
              "      border: none;\n",
              "      border-radius: 50%;\n",
              "      cursor: pointer;\n",
              "      display: none;\n",
              "      fill: #1967D2;\n",
              "      height: 32px;\n",
              "      padding: 0 0 0 0;\n",
              "      width: 32px;\n",
              "    }\n",
              "\n",
              "    .colab-df-convert:hover {\n",
              "      background-color: #E2EBFA;\n",
              "      box-shadow: 0px 1px 2px rgba(60, 64, 67, 0.3), 0px 1px 3px 1px rgba(60, 64, 67, 0.15);\n",
              "      fill: #174EA6;\n",
              "    }\n",
              "\n",
              "    [theme=dark] .colab-df-convert {\n",
              "      background-color: #3B4455;\n",
              "      fill: #D2E3FC;\n",
              "    }\n",
              "\n",
              "    [theme=dark] .colab-df-convert:hover {\n",
              "      background-color: #434B5C;\n",
              "      box-shadow: 0px 1px 3px 1px rgba(0, 0, 0, 0.15);\n",
              "      filter: drop-shadow(0px 1px 2px rgba(0, 0, 0, 0.3));\n",
              "      fill: #FFFFFF;\n",
              "    }\n",
              "  </style>\n",
              "\n",
              "      <script>\n",
              "        const buttonEl =\n",
              "          document.querySelector('#df-c7bfd09b-d35d-45e0-a836-7f6cff361273 button.colab-df-convert');\n",
              "        buttonEl.style.display =\n",
              "          google.colab.kernel.accessAllowed ? 'block' : 'none';\n",
              "\n",
              "        async function convertToInteractive(key) {\n",
              "          const element = document.querySelector('#df-c7bfd09b-d35d-45e0-a836-7f6cff361273');\n",
              "          const dataTable =\n",
              "            await google.colab.kernel.invokeFunction('convertToInteractive',\n",
              "                                                     [key], {});\n",
              "          if (!dataTable) return;\n",
              "\n",
              "          const docLinkHtml = 'Like what you see? Visit the ' +\n",
              "            '<a target=\"_blank\" href=https://colab.research.google.com/notebooks/data_table.ipynb>data table notebook</a>'\n",
              "            + ' to learn more about interactive tables.';\n",
              "          element.innerHTML = '';\n",
              "          dataTable['output_type'] = 'display_data';\n",
              "          await google.colab.output.renderOutput(dataTable, element);\n",
              "          const docLink = document.createElement('div');\n",
              "          docLink.innerHTML = docLinkHtml;\n",
              "          element.appendChild(docLink);\n",
              "        }\n",
              "      </script>\n",
              "    </div>\n",
              "  </div>\n",
              "  "
            ]
          },
          "metadata": {},
          "execution_count": 827
        }
      ]
    },
    {
      "cell_type": "code",
      "source": [
        "df_3.drop(columns=['slope', 'ca', 'thal'], inplace=True)"
      ],
      "metadata": {
        "id": "09MqHo-kkpTo"
      },
      "execution_count": 828,
      "outputs": []
    },
    {
      "cell_type": "code",
      "source": [
        "y = df_3['num       ']\n",
        "X = df_3.drop(columns='num       ')"
      ],
      "metadata": {
        "id": "9rphjXVMk8AI"
      },
      "execution_count": 831,
      "outputs": []
    },
    {
      "cell_type": "code",
      "source": [
        "%%time\n",
        "\n",
        "n_test = 50\n",
        "gen = predict_array_pattern(np.array(X), np.array(y), n_test, use_tqdm=True)\n",
        "y_preds, t_preds = apply_stopwatch(gen)"
      ],
      "metadata": {
        "colab": {
          "base_uri": "https://localhost:8080/"
        },
        "id": "Sispt1eSlDO2",
        "outputId": "269b8a70-21d2-43e1-9e9a-c7659fdf9e1e"
      },
      "execution_count": 832,
      "outputs": [
        {
          "output_type": "stream",
          "name": "stderr",
          "text": [
            "Predicting step by step: 100%|██████████| 50/50 [00:01<00:00, 27.34it/s]"
          ]
        },
        {
          "output_type": "stream",
          "name": "stdout",
          "text": [
            "CPU times: user 1.59 s, sys: 9.89 ms, total: 1.6 s\n",
            "Wall time: 1.85 s\n"
          ]
        },
        {
          "output_type": "stream",
          "name": "stderr",
          "text": [
            "\n"
          ]
        }
      ]
    },
    {
      "cell_type": "code",
      "source": [
        "from sklearn.metrics import accuracy_score, f1_score, precision_score, recall_score, classification_report\n",
        "print(classification_report(y[:n_test], y_preds))"
      ],
      "metadata": {
        "colab": {
          "base_uri": "https://localhost:8080/"
        },
        "id": "L43Gx_VLlR0_",
        "outputId": "77cf942f-dbd2-4a43-af71-6c5141e87ebc"
      },
      "execution_count": 833,
      "outputs": [
        {
          "output_type": "stream",
          "name": "stdout",
          "text": [
            "              precision    recall  f1-score   support\n",
            "\n",
            "           0       0.56      0.89      0.68        28\n",
            "           1       0.40      0.09      0.15        22\n",
            "\n",
            "    accuracy                           0.54        50\n",
            "   macro avg       0.48      0.49      0.42        50\n",
            "weighted avg       0.49      0.54      0.45        50\n",
            "\n"
          ]
        }
      ]
    },
    {
      "cell_type": "markdown",
      "source": [
        "## Lets check My Lazy FCA algorithm on one of datasets"
      ],
      "metadata": {
        "id": "B_2p5xT8mZ7M"
      }
    },
    {
      "cell_type": "code",
      "source": [
        "df_1 = pd.read_csv('/content/citrus.csv')\n",
        "\n",
        "df_1 = df_1.sample(frac=1).reset_index(drop=True)[:2000]"
      ],
      "metadata": {
        "id": "6lDT5-gMlS9A"
      },
      "execution_count": 843,
      "outputs": []
    },
    {
      "cell_type": "code",
      "source": [
        "numeric = ['diameter', 'weight', 'red', 'green', 'blue']\n",
        "target = 'name'"
      ],
      "metadata": {
        "id": "KeEJVj-VmY6F"
      },
      "execution_count": 844,
      "outputs": []
    },
    {
      "cell_type": "code",
      "source": [
        "df_1 = binarize_numerical(df_1, numeric)"
      ],
      "metadata": {
        "id": "k0OfGCmdmoKE"
      },
      "execution_count": 845,
      "outputs": []
    },
    {
      "cell_type": "code",
      "source": [
        "df_1['target'] = pd.get_dummies(df_1[target])['orange']\n",
        "df_1.drop(columns='name', inplace=True)"
      ],
      "metadata": {
        "id": "fX5iKXh6mkfx"
      },
      "execution_count": 846,
      "outputs": []
    },
    {
      "cell_type": "code",
      "source": [
        "%%time\n",
        "y = df_1['target']\n",
        "X = df_1.drop(columns='target')\n",
        "\n",
        "n_train = 200\n",
        "gen = predict_array(np.array(X), np.array(y), n_train, use_tqdm=True)\n",
        "y_preds, t_preds = apply_stopwatch(gen)"
      ],
      "metadata": {
        "colab": {
          "base_uri": "https://localhost:8080/"
        },
        "id": "qtHWDWJ3mvqG",
        "outputId": "6be10867-e4e0-41ef-96e6-39d0988bf633"
      },
      "execution_count": 854,
      "outputs": [
        {
          "output_type": "stream",
          "name": "stderr",
          "text": [
            "Predicting step by step: 100%|██████████| 2000/2000 [00:01<00:00, 1761.91it/s]"
          ]
        },
        {
          "output_type": "stream",
          "name": "stdout",
          "text": [
            "CPU times: user 979 ms, sys: 29.1 ms, total: 1.01 s\n",
            "Wall time: 1.05 s\n"
          ]
        },
        {
          "output_type": "stream",
          "name": "stderr",
          "text": [
            "\n"
          ]
        }
      ]
    },
    {
      "cell_type": "code",
      "source": [
        "from sklearn.metrics import accuracy_score, f1_score, precision_score, recall_score, classification_report\n",
        "print(classification_report(y[n_train:], y_preds))"
      ],
      "metadata": {
        "colab": {
          "base_uri": "https://localhost:8080/"
        },
        "id": "zdTueFcSm1dc",
        "outputId": "be383a25-fde6-482d-b935-1a2507893f81"
      },
      "execution_count": 855,
      "outputs": [
        {
          "output_type": "stream",
          "name": "stdout",
          "text": [
            "              precision    recall  f1-score   support\n",
            "\n",
            "           0       0.89      0.88      0.89       902\n",
            "           1       0.88      0.89      0.89       898\n",
            "\n",
            "    accuracy                           0.89      1800\n",
            "   macro avg       0.89      0.89      0.89      1800\n",
            "weighted avg       0.89      0.89      0.89      1800\n",
            "\n"
          ]
        }
      ]
    },
    {
      "cell_type": "markdown",
      "source": [
        "Now without using pattern structure we got 90% accuracy and 90% mean F1 score"
      ],
      "metadata": {
        "id": "P8qWCzd5nJw2"
      }
    },
    {
      "cell_type": "code",
      "source": [],
      "metadata": {
        "id": "8NL8i8RDm2tH"
      },
      "execution_count": null,
      "outputs": []
    }
  ]
}